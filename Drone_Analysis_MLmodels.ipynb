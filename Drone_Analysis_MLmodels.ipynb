{
 "cells": [
  {
   "cell_type": "markdown",
   "metadata": {},
   "source": [
    "Author: Sanath H Patil\n",
    "\n",
    "Environment: Python 3.6.1 and Jupyter notebook\n",
    "\n",
    "Libraries used: Main libraries used in the project:\n",
    "\n",
    "   - sklearn for Implepenting various models\n",
    "   - pandas(for creating dataframes, included in Anaconda Python 3.6)\n",
    "   - numpy(for numeric calculations, included in Anaconda Python 3.6)\n",
    "   - matplotlib(for plotting dataframes, included in Anaconda Python 3.6)\n",
    "   - datetime(for verifying date time, included in Anaconda Python 3.6)\n",
    "   - re (for regular expression, included in Anaconda Python 3.6)\n",
    "   - seaborn(for plotting graphs, included in Anaconda Python 3.6)\n",
    "   - Few images are captured from Tableau\n",
    "   - math(to perform calculation, included in Anaconda Python 3.6)\n",
    "   - warnings (to ignore any warnings thrown while execution, included in Anaconda Python 3.6) "
   ]
  },
  {
   "cell_type": "markdown",
   "metadata": {},
   "source": [
    "# Content"
   ]
  },
  {
   "cell_type": "markdown",
   "metadata": {},
   "source": [
    "## 1- Libraries"
   ]
  },
  {
   "cell_type": "code",
   "execution_count": 1,
   "metadata": {},
   "outputs": [],
   "source": [
    "import sklearn\n",
    "import pandas as pd\n",
    "import numpy as np\n",
    "import matplotlib.pyplot as plt\n",
    "import datetime\n",
    "import re\n",
    "import seaborn as sns\n",
    "from sklearn.neighbors import KNeighborsClassifier\n",
    "from sklearn import neighbors\n",
    "from sklearn.metrics import mean_squared_error \n",
    "from math import sqrt\n",
    "from datetime import datetime\n",
    "from sklearn.preprocessing import StandardScaler\n",
    "from sklearn.tree import DecisionTreeRegressor\n",
    "from sklearn.ensemble import RandomForestRegressor\n",
    "from sklearn.model_selection import train_test_split\n",
    "from sklearn.linear_model import LinearRegression\n",
    "\n",
    "\n",
    "import warnings\n",
    "warnings.filterwarnings(\"ignore\")"
   ]
  },
  {
   "cell_type": "markdown",
   "metadata": {},
   "source": [
    "## 2- Read the csv file"
   ]
  },
  {
   "cell_type": "code",
   "execution_count": 2,
   "metadata": {},
   "outputs": [],
   "source": [
    "dataset = pd.read_csv(\"Drone.csv\")\n",
    "data = dataset.copy()"
   ]
  },
  {
   "cell_type": "markdown",
   "metadata": {},
   "source": [
    "## 3- Exploring Dataframe:"
   ]
  },
  {
   "cell_type": "markdown",
   "metadata": {},
   "source": [
    "## 3-1 Information of the data"
   ]
  },
  {
   "cell_type": "code",
   "execution_count": 3,
   "metadata": {},
   "outputs": [
    {
     "name": "stdout",
     "output_type": "stream",
     "text": [
      "<class 'pandas.core.frame.DataFrame'>\n",
      "RangeIndex: 37057 entries, 0 to 37056\n",
      "Data columns (total 16 columns):\n",
      "Id                       37034 non-null object\n",
      "Drone Type               37047 non-null float64\n",
      "Post Type                37037 non-null float64\n",
      "Package Weight           37057 non-null float64\n",
      "Origin Region            37047 non-null float64\n",
      "Destination Region       37047 non-null float64\n",
      "Origin Latitude          37057 non-null float64\n",
      "Origin Longitude         37057 non-null float64\n",
      "Destination Latitude     37057 non-null float64\n",
      "Destination Longitude    37057 non-null float64\n",
      "Journey Distance         37057 non-null float64\n",
      "Departure Date           37057 non-null object\n",
      "Departure Time           37057 non-null object\n",
      "Travel Time              37017 non-null float64\n",
      "Delivery Time            37057 non-null object\n",
      "Delivery Fare            37027 non-null float64\n",
      "dtypes: float64(12), object(4)\n",
      "memory usage: 4.5+ MB\n"
     ]
    }
   ],
   "source": [
    "data.info()"
   ]
  },
  {
   "cell_type": "markdown",
   "metadata": {},
   "source": [
    "## 3-2 Diplaying the count of null values for each feature in the dataset"
   ]
  },
  {
   "cell_type": "code",
   "execution_count": 4,
   "metadata": {},
   "outputs": [
    {
     "data": {
      "text/plain": [
       "Id                       23\n",
       "Drone Type               10\n",
       "Post Type                20\n",
       "Package Weight            0\n",
       "Origin Region            10\n",
       "Destination Region       10\n",
       "Origin Latitude           0\n",
       "Origin Longitude          0\n",
       "Destination Latitude      0\n",
       "Destination Longitude     0\n",
       "Journey Distance          0\n",
       "Departure Date            0\n",
       "Departure Time            0\n",
       "Travel Time              40\n",
       "Delivery Time             0\n",
       "Delivery Fare            30\n",
       "dtype: int64"
      ]
     },
     "execution_count": 4,
     "metadata": {},
     "output_type": "execute_result"
    }
   ],
   "source": [
    "data.isnull().sum()"
   ]
  },
  {
   "cell_type": "markdown",
   "metadata": {},
   "source": [
    "# Data Preparation"
   ]
  },
  {
   "cell_type": "markdown",
   "metadata": {},
   "source": [
    "## 4- Dropping  Id = Null and duplicates"
   ]
  },
  {
   "cell_type": "markdown",
   "metadata": {},
   "source": [
    "## 4-1 Removing the Null valued rows from the Id column - the Null Id values is of no use for modelling"
   ]
  },
  {
   "cell_type": "code",
   "execution_count": 5,
   "metadata": {},
   "outputs": [
    {
     "data": {
      "text/html": [
       "<div>\n",
       "<style scoped>\n",
       "    .dataframe tbody tr th:only-of-type {\n",
       "        vertical-align: middle;\n",
       "    }\n",
       "\n",
       "    .dataframe tbody tr th {\n",
       "        vertical-align: top;\n",
       "    }\n",
       "\n",
       "    .dataframe thead th {\n",
       "        text-align: right;\n",
       "    }\n",
       "</style>\n",
       "<table border=\"1\" class=\"dataframe\">\n",
       "  <thead>\n",
       "    <tr style=\"text-align: right;\">\n",
       "      <th></th>\n",
       "      <th>Id</th>\n",
       "      <th>Drone Type</th>\n",
       "      <th>Post Type</th>\n",
       "      <th>Package Weight</th>\n",
       "      <th>Origin Region</th>\n",
       "      <th>Destination Region</th>\n",
       "      <th>Origin Latitude</th>\n",
       "      <th>Origin Longitude</th>\n",
       "      <th>Destination Latitude</th>\n",
       "      <th>Destination Longitude</th>\n",
       "      <th>Journey Distance</th>\n",
       "      <th>Departure Date</th>\n",
       "      <th>Departure Time</th>\n",
       "      <th>Travel Time</th>\n",
       "      <th>Delivery Time</th>\n",
       "      <th>Delivery Fare</th>\n",
       "    </tr>\n",
       "  </thead>\n",
       "  <tbody>\n",
       "  </tbody>\n",
       "</table>\n",
       "</div>"
      ],
      "text/plain": [
       "Empty DataFrame\n",
       "Columns: [Id, Drone Type, Post Type, Package Weight, Origin Region, Destination Region, Origin Latitude, Origin Longitude, Destination Latitude, Destination Longitude, Journey Distance, Departure Date, Departure Time, Travel Time, Delivery Time, Delivery Fare]\n",
       "Index: []"
      ]
     },
     "execution_count": 5,
     "metadata": {},
     "output_type": "execute_result"
    }
   ],
   "source": [
    "data = data[~data['Id'].isnull()]\n",
    "data[data['Id'].isnull()]"
   ]
  },
  {
   "cell_type": "markdown",
   "metadata": {},
   "source": [
    "-----------------------"
   ]
  },
  {
   "cell_type": "markdown",
   "metadata": {},
   "source": [
    "## 4-2 Handling duplicated data"
   ]
  },
  {
   "cell_type": "code",
   "execution_count": 6,
   "metadata": {},
   "outputs": [
    {
     "data": {
      "text/html": [
       "<div>\n",
       "<style scoped>\n",
       "    .dataframe tbody tr th:only-of-type {\n",
       "        vertical-align: middle;\n",
       "    }\n",
       "\n",
       "    .dataframe tbody tr th {\n",
       "        vertical-align: top;\n",
       "    }\n",
       "\n",
       "    .dataframe thead th {\n",
       "        text-align: right;\n",
       "    }\n",
       "</style>\n",
       "<table border=\"1\" class=\"dataframe\">\n",
       "  <thead>\n",
       "    <tr style=\"text-align: right;\">\n",
       "      <th></th>\n",
       "      <th>Id</th>\n",
       "      <th>Drone Type</th>\n",
       "      <th>Post Type</th>\n",
       "      <th>Package Weight</th>\n",
       "      <th>Origin Region</th>\n",
       "      <th>Destination Region</th>\n",
       "      <th>Origin Latitude</th>\n",
       "      <th>Origin Longitude</th>\n",
       "      <th>Destination Latitude</th>\n",
       "      <th>Destination Longitude</th>\n",
       "      <th>Journey Distance</th>\n",
       "      <th>Departure Date</th>\n",
       "      <th>Departure Time</th>\n",
       "      <th>Travel Time</th>\n",
       "      <th>Delivery Time</th>\n",
       "      <th>Delivery Fare</th>\n",
       "    </tr>\n",
       "  </thead>\n",
       "  <tbody>\n",
       "    <tr>\n",
       "      <td>36997</td>\n",
       "      <td>ID1410430687</td>\n",
       "      <td>1.0</td>\n",
       "      <td>0.0</td>\n",
       "      <td>7.451</td>\n",
       "      <td>44.0</td>\n",
       "      <td>27.0</td>\n",
       "      <td>-38.274392</td>\n",
       "      <td>144.512561</td>\n",
       "      <td>-37.864361</td>\n",
       "      <td>145.168159</td>\n",
       "      <td>73.377</td>\n",
       "      <td>2018-04-26</td>\n",
       "      <td>11:47:59</td>\n",
       "      <td>79.88</td>\n",
       "      <td>13:07:51</td>\n",
       "      <td>84.89</td>\n",
       "    </tr>\n",
       "    <tr>\n",
       "      <td>37000</td>\n",
       "      <td>ID1512056266</td>\n",
       "      <td>1.0</td>\n",
       "      <td>0.0</td>\n",
       "      <td>44.291</td>\n",
       "      <td>3.0</td>\n",
       "      <td>26.0</td>\n",
       "      <td>-38.435257</td>\n",
       "      <td>145.536423</td>\n",
       "      <td>-37.707011</td>\n",
       "      <td>147.229934</td>\n",
       "      <td>169.102</td>\n",
       "      <td>2018-06-12</td>\n",
       "      <td>07:01:56</td>\n",
       "      <td>175.60</td>\n",
       "      <td>9:57:31</td>\n",
       "      <td>94.52</td>\n",
       "    </tr>\n",
       "    <tr>\n",
       "      <td>37001</td>\n",
       "      <td>ID1687471250</td>\n",
       "      <td>1.0</td>\n",
       "      <td>0.0</td>\n",
       "      <td>39.177</td>\n",
       "      <td>48.0</td>\n",
       "      <td>24.0</td>\n",
       "      <td>-37.112288</td>\n",
       "      <td>148.309202</td>\n",
       "      <td>-36.741505</td>\n",
       "      <td>143.309876</td>\n",
       "      <td>446.734</td>\n",
       "      <td>2018-04-31</td>\n",
       "      <td>20:05:01</td>\n",
       "      <td>453.23</td>\n",
       "      <td>3:38:14</td>\n",
       "      <td>135.79</td>\n",
       "    </tr>\n",
       "    <tr>\n",
       "      <td>37002</td>\n",
       "      <td>ID5651048390</td>\n",
       "      <td>1.0</td>\n",
       "      <td>1.0</td>\n",
       "      <td>25.860</td>\n",
       "      <td>21.0</td>\n",
       "      <td>27.0</td>\n",
       "      <td>-37.951562</td>\n",
       "      <td>144.487708</td>\n",
       "      <td>-38.007377</td>\n",
       "      <td>145.151683</td>\n",
       "      <td>58.590</td>\n",
       "      <td>2018-06-06</td>\n",
       "      <td>06:57:30</td>\n",
       "      <td>65.09</td>\n",
       "      <td>8:02:35</td>\n",
       "      <td>123.54</td>\n",
       "    </tr>\n",
       "    <tr>\n",
       "      <td>37003</td>\n",
       "      <td>ID1455239185</td>\n",
       "      <td>3.0</td>\n",
       "      <td>0.0</td>\n",
       "      <td>27.200</td>\n",
       "      <td>25.0</td>\n",
       "      <td>11.0</td>\n",
       "      <td>-37.060611</td>\n",
       "      <td>145.928476</td>\n",
       "      <td>-37.358933</td>\n",
       "      <td>144.239097</td>\n",
       "      <td>153.408</td>\n",
       "      <td>2018-01-16</td>\n",
       "      <td>13:34:45</td>\n",
       "      <td>134.58</td>\n",
       "      <td>15:49:19</td>\n",
       "      <td>179.55</td>\n",
       "    </tr>\n",
       "  </tbody>\n",
       "</table>\n",
       "</div>"
      ],
      "text/plain": [
       "                 Id  Drone Type  Post Type  Package Weight  Origin Region  \\\n",
       "36997  ID1410430687         1.0        0.0           7.451           44.0   \n",
       "37000  ID1512056266         1.0        0.0          44.291            3.0   \n",
       "37001  ID1687471250         1.0        0.0          39.177           48.0   \n",
       "37002  ID5651048390         1.0        1.0          25.860           21.0   \n",
       "37003  ID1455239185         3.0        0.0          27.200           25.0   \n",
       "\n",
       "       Destination Region  Origin Latitude  Origin Longitude  \\\n",
       "36997                27.0       -38.274392        144.512561   \n",
       "37000                26.0       -38.435257        145.536423   \n",
       "37001                24.0       -37.112288        148.309202   \n",
       "37002                27.0       -37.951562        144.487708   \n",
       "37003                11.0       -37.060611        145.928476   \n",
       "\n",
       "       Destination Latitude  Destination Longitude  Journey Distance  \\\n",
       "36997            -37.864361             145.168159            73.377   \n",
       "37000            -37.707011             147.229934           169.102   \n",
       "37001            -36.741505             143.309876           446.734   \n",
       "37002            -38.007377             145.151683            58.590   \n",
       "37003            -37.358933             144.239097           153.408   \n",
       "\n",
       "      Departure Date Departure Time  Travel Time Delivery Time  Delivery Fare  \n",
       "36997     2018-04-26       11:47:59        79.88      13:07:51          84.89  \n",
       "37000     2018-06-12       07:01:56       175.60       9:57:31          94.52  \n",
       "37001     2018-04-31       20:05:01       453.23       3:38:14         135.79  \n",
       "37002     2018-06-06       06:57:30        65.09       8:02:35         123.54  \n",
       "37003     2018-01-16       13:34:45       134.58      15:49:19         179.55  "
      ]
     },
     "execution_count": 6,
     "metadata": {},
     "output_type": "execute_result"
    }
   ],
   "source": [
    "# Duplicate data displayed\n",
    "data[data.duplicated()].head()"
   ]
  },
  {
   "cell_type": "code",
   "execution_count": 7,
   "metadata": {},
   "outputs": [
    {
     "data": {
      "text/html": [
       "<div>\n",
       "<style scoped>\n",
       "    .dataframe tbody tr th:only-of-type {\n",
       "        vertical-align: middle;\n",
       "    }\n",
       "\n",
       "    .dataframe tbody tr th {\n",
       "        vertical-align: top;\n",
       "    }\n",
       "\n",
       "    .dataframe thead th {\n",
       "        text-align: right;\n",
       "    }\n",
       "</style>\n",
       "<table border=\"1\" class=\"dataframe\">\n",
       "  <thead>\n",
       "    <tr style=\"text-align: right;\">\n",
       "      <th></th>\n",
       "      <th>Id</th>\n",
       "      <th>Drone Type</th>\n",
       "      <th>Post Type</th>\n",
       "      <th>Package Weight</th>\n",
       "      <th>Origin Region</th>\n",
       "      <th>Destination Region</th>\n",
       "      <th>Origin Latitude</th>\n",
       "      <th>Origin Longitude</th>\n",
       "      <th>Destination Latitude</th>\n",
       "      <th>Destination Longitude</th>\n",
       "      <th>Journey Distance</th>\n",
       "      <th>Departure Date</th>\n",
       "      <th>Departure Time</th>\n",
       "      <th>Travel Time</th>\n",
       "      <th>Delivery Time</th>\n",
       "      <th>Delivery Fare</th>\n",
       "    </tr>\n",
       "  </thead>\n",
       "  <tbody>\n",
       "  </tbody>\n",
       "</table>\n",
       "</div>"
      ],
      "text/plain": [
       "Empty DataFrame\n",
       "Columns: [Id, Drone Type, Post Type, Package Weight, Origin Region, Destination Region, Origin Latitude, Origin Longitude, Destination Latitude, Destination Longitude, Journey Distance, Departure Date, Departure Time, Travel Time, Delivery Time, Delivery Fare]\n",
       "Index: []"
      ]
     },
     "execution_count": 7,
     "metadata": {},
     "output_type": "execute_result"
    }
   ],
   "source": [
    "data.drop_duplicates(subset=None, keep='first', inplace=True)\n",
    "data[data.duplicated()]"
   ]
  },
  {
   "cell_type": "markdown",
   "metadata": {},
   "source": [
    "----------------"
   ]
  },
  {
   "cell_type": "markdown",
   "metadata": {},
   "source": [
    "# 5 - Cleaning Departure Date\n",
    "\n",
    "From EDA, Date variable has 3 errors:\n",
    "\n",
    "   - Date format error\n",
    "   - February month ending with 30\n",
    "   - Months wrongly ending with day 31\n"
   ]
  },
  {
   "cell_type": "code",
   "execution_count": 8,
   "metadata": {},
   "outputs": [],
   "source": [
    "import datetime\n",
    "\n",
    "date_string = data['Departure Date']\n",
    "date_format = '%Y-%m-%d'\n",
    "date_issue = []\n",
    "for i in date_string:\n",
    "    try:\n",
    "        date_obj = datetime.datetime.strptime(i, date_format)\n",
    "        \n",
    "        #print(date_obj)\n",
    "    except ValueError:\n",
    "        date_issue.append(i) \n",
    "#         print(i)"
   ]
  },
  {
   "cell_type": "markdown",
   "metadata": {},
   "source": [
    "## Regular Expressions are used to handle the date errors"
   ]
  },
  {
   "cell_type": "code",
   "execution_count": 9,
   "metadata": {},
   "outputs": [],
   "source": [
    "def cleanup(date):\n",
    "    PATTERNS = [\n",
    "    # 1) Day and month swap if month is greater than 12\n",
    "    r'(\\d{4})-(1[3-9]|2[0-9]|3[0-1])-(\\d{1,2})',\n",
    "    # 2) Feb month\n",
    "    r'(\\d{4})-(02|2)-(\\d{1,2})',\n",
    "    # 3) day exceeds month limit\n",
    "    r'(\\d{4})-(04|4|6|06|9|09|11)-(31)']\n",
    "\n",
    "    PATTERNS = [re.compile(p) for p in PATTERNS]\n",
    "\n",
    "    if type(date) != str:\n",
    "        date = str(date)\n",
    "    for i, p in enumerate(PATTERNS):\n",
    "        res = p.match(date)\n",
    "#         print(res)\n",
    "        if res and i == 0:\n",
    "            return f'{res[1]}-{res[3]}-{res[2]}'\n",
    "            \n",
    "        if res and i == 1:\n",
    "            return f'{res[1]}-{res[2]}-{int(res[3])-2 if int(res[3])==30 else int(res[3])-3}'\n",
    "\n",
    "        if res and i == 2:\n",
    "            return f'{res[1]}-{res[2]}-{int(res[3]) - 1}'\n",
    "        \n",
    "        else:\n",
    "#             print(\"entered else\")\n",
    "            continue"
   ]
  },
  {
   "cell_type": "code",
   "execution_count": 10,
   "metadata": {},
   "outputs": [],
   "source": [
    "date_fix = []\n",
    "for i in date_issue:\n",
    "    date_fix .append(cleanup(i))"
   ]
  },
  {
   "cell_type": "code",
   "execution_count": 11,
   "metadata": {},
   "outputs": [
    {
     "name": "stdout",
     "output_type": "stream",
     "text": [
      "36997\n"
     ]
    }
   ],
   "source": [
    "import datetime\n",
    "\n",
    "date_string = data['Departure Date']\n",
    "date_format = '%Y-%m-%d'\n",
    "fixed_date = []\n",
    "count = 0\n",
    "for i in date_string:\n",
    "    fix = []\n",
    "    try:\n",
    "        date_obj = datetime.datetime.strptime(i, date_format)\n",
    "        fixed_date.append(i)\n",
    "        #print(date_obj)\n",
    "    except ValueError:\n",
    "        fix = cleanup(i)\n",
    "        fixed_date.append(fix)\n",
    "#         print(i)\n",
    "    count+=1\n",
    "print(count)"
   ]
  },
  {
   "cell_type": "code",
   "execution_count": 12,
   "metadata": {},
   "outputs": [],
   "source": [
    "data[\"Departure Date\"] = pd.to_datetime(fixed_date, format = '%Y-%m-%d')"
   ]
  },
  {
   "cell_type": "markdown",
   "metadata": {},
   "source": [
    "---------------------"
   ]
  },
  {
   "cell_type": "markdown",
   "metadata": {},
   "source": [
    "# 6- Destination Latitude and Longitude fix"
   ]
  },
  {
   "cell_type": "markdown",
   "metadata": {},
   "source": [
    "## Some of the latitude and longitude values have incorrect format as represented below:"
   ]
  },
  {
   "attachments": {
    "image.png": {
     "image/png": "[encoded data removed]"
    }
   },
   "cell_type": "markdown",
   "metadata": {},
   "source": [
    "![image.png](attachment:image.png)"
   ]
  },
  {
   "cell_type": "markdown",
   "metadata": {},
   "source": [
    "## 6-1 Destination Latitude Fix"
   ]
  },
  {
   "cell_type": "code",
   "execution_count": 13,
   "metadata": {},
   "outputs": [],
   "source": [
    "def convert_pos_to_neg(data):\n",
    "    x = []\n",
    "    for i in data:\n",
    "\n",
    "                \n",
    "        if (i > 0):\n",
    "            i = i*-1\n",
    "            x.append(i)\n",
    "            \n",
    "        elif (i < 0):\n",
    "            x.append(i)\n",
    "            \n",
    "        else:\n",
    "            print(i)\n",
    "            \n",
    "    return x"
   ]
  },
  {
   "cell_type": "code",
   "execution_count": 14,
   "metadata": {},
   "outputs": [],
   "source": [
    "dest_lat = data.iloc[:, 8:9].values\n",
    "converted_dest_lat = convert_pos_to_neg(dest_lat)\n",
    "data[\"Destination Latitude\"] = converted_dest_lat\n",
    "pd.options.display.float_format = \"{:,.6f}\".format\n",
    "data[\"Destination Latitude\"] = data[\"Destination Latitude\"].astype(float)"
   ]
  },
  {
   "cell_type": "code",
   "execution_count": 15,
   "metadata": {},
   "outputs": [
    {
     "data": {
      "text/html": [
       "<div>\n",
       "<style scoped>\n",
       "    .dataframe tbody tr th:only-of-type {\n",
       "        vertical-align: middle;\n",
       "    }\n",
       "\n",
       "    .dataframe tbody tr th {\n",
       "        vertical-align: top;\n",
       "    }\n",
       "\n",
       "    .dataframe thead th {\n",
       "        text-align: right;\n",
       "    }\n",
       "</style>\n",
       "<table border=\"1\" class=\"dataframe\">\n",
       "  <thead>\n",
       "    <tr style=\"text-align: right;\">\n",
       "      <th></th>\n",
       "      <th>Id</th>\n",
       "      <th>Drone Type</th>\n",
       "      <th>Post Type</th>\n",
       "      <th>Package Weight</th>\n",
       "      <th>Origin Region</th>\n",
       "      <th>Destination Region</th>\n",
       "      <th>Origin Latitude</th>\n",
       "      <th>Origin Longitude</th>\n",
       "      <th>Destination Latitude</th>\n",
       "      <th>Destination Longitude</th>\n",
       "      <th>Journey Distance</th>\n",
       "      <th>Departure Date</th>\n",
       "      <th>Departure Time</th>\n",
       "      <th>Travel Time</th>\n",
       "      <th>Delivery Time</th>\n",
       "      <th>Delivery Fare</th>\n",
       "    </tr>\n",
       "  </thead>\n",
       "  <tbody>\n",
       "  </tbody>\n",
       "</table>\n",
       "</div>"
      ],
      "text/plain": [
       "Empty DataFrame\n",
       "Columns: [Id, Drone Type, Post Type, Package Weight, Origin Region, Destination Region, Origin Latitude, Origin Longitude, Destination Latitude, Destination Longitude, Journey Distance, Departure Date, Departure Time, Travel Time, Delivery Time, Delivery Fare]\n",
       "Index: []"
      ]
     },
     "execution_count": 15,
     "metadata": {},
     "output_type": "execute_result"
    }
   ],
   "source": [
    "data[data.iloc[:,8:9].values>0]"
   ]
  },
  {
   "cell_type": "markdown",
   "metadata": {},
   "source": [
    "## 6-2 Destination Longitude Fix"
   ]
  },
  {
   "cell_type": "code",
   "execution_count": 16,
   "metadata": {},
   "outputs": [],
   "source": [
    "def convert_neg_to_pos(data):\n",
    "    x = []\n",
    "    for i in data:\n",
    "\n",
    "                \n",
    "        if (i > 0):\n",
    "            x.append(i)\n",
    "            \n",
    "        elif (i < 0):\n",
    "            i = abs(i)\n",
    "            x.append(i)\n",
    "            \n",
    "        else:\n",
    "            print(i)\n",
    "            \n",
    "    return x"
   ]
  },
  {
   "cell_type": "code",
   "execution_count": 17,
   "metadata": {},
   "outputs": [],
   "source": [
    "dest_long = data.iloc[:, 9:10].values\n",
    "converted_dest_long = convert_neg_to_pos(dest_long)\n",
    "data[\"Destination Longitude\"] = converted_dest_long\n",
    "pd.options.display.float_format = \"{:,.6f}\".format\n",
    "data[\"Destination Longitude\"] = data[\"Destination Longitude\"].astype(float)"
   ]
  },
  {
   "cell_type": "code",
   "execution_count": 18,
   "metadata": {},
   "outputs": [
    {
     "data": {
      "text/html": [
       "<div>\n",
       "<style scoped>\n",
       "    .dataframe tbody tr th:only-of-type {\n",
       "        vertical-align: middle;\n",
       "    }\n",
       "\n",
       "    .dataframe tbody tr th {\n",
       "        vertical-align: top;\n",
       "    }\n",
       "\n",
       "    .dataframe thead th {\n",
       "        text-align: right;\n",
       "    }\n",
       "</style>\n",
       "<table border=\"1\" class=\"dataframe\">\n",
       "  <thead>\n",
       "    <tr style=\"text-align: right;\">\n",
       "      <th></th>\n",
       "      <th>Id</th>\n",
       "      <th>Drone Type</th>\n",
       "      <th>Post Type</th>\n",
       "      <th>Package Weight</th>\n",
       "      <th>Origin Region</th>\n",
       "      <th>Destination Region</th>\n",
       "      <th>Origin Latitude</th>\n",
       "      <th>Origin Longitude</th>\n",
       "      <th>Destination Latitude</th>\n",
       "      <th>Destination Longitude</th>\n",
       "      <th>Journey Distance</th>\n",
       "      <th>Departure Date</th>\n",
       "      <th>Departure Time</th>\n",
       "      <th>Travel Time</th>\n",
       "      <th>Delivery Time</th>\n",
       "      <th>Delivery Fare</th>\n",
       "    </tr>\n",
       "  </thead>\n",
       "  <tbody>\n",
       "  </tbody>\n",
       "</table>\n",
       "</div>"
      ],
      "text/plain": [
       "Empty DataFrame\n",
       "Columns: [Id, Drone Type, Post Type, Package Weight, Origin Region, Destination Region, Origin Latitude, Origin Longitude, Destination Latitude, Destination Longitude, Journey Distance, Departure Date, Departure Time, Travel Time, Delivery Time, Delivery Fare]\n",
       "Index: []"
      ]
     },
     "execution_count": 18,
     "metadata": {},
     "output_type": "execute_result"
    }
   ],
   "source": [
    "data[data.iloc[:, 9:10].values < 0]"
   ]
  },
  {
   "cell_type": "markdown",
   "metadata": {},
   "source": [
    "# 7- Origin Latitude and Longitude Fix"
   ]
  },
  {
   "cell_type": "markdown",
   "metadata": {},
   "source": [
    "## 7-1 Origin Latitude fix:"
   ]
  },
  {
   "cell_type": "code",
   "execution_count": 19,
   "metadata": {},
   "outputs": [],
   "source": [
    "converted_origin_lat = convert_pos_to_neg(data.iloc[:,6:7].values)\n",
    "\n",
    "data[\"Origin Latitude\"] = converted_origin_lat\n",
    "data[\"Origin Latitude\"] = data[\"Origin Latitude\"].astype(float)\n",
    "pd.options.display.float_format = \"{:,.6f}\".format"
   ]
  },
  {
   "cell_type": "code",
   "execution_count": 20,
   "metadata": {},
   "outputs": [
    {
     "data": {
      "text/html": [
       "<div>\n",
       "<style scoped>\n",
       "    .dataframe tbody tr th:only-of-type {\n",
       "        vertical-align: middle;\n",
       "    }\n",
       "\n",
       "    .dataframe tbody tr th {\n",
       "        vertical-align: top;\n",
       "    }\n",
       "\n",
       "    .dataframe thead th {\n",
       "        text-align: right;\n",
       "    }\n",
       "</style>\n",
       "<table border=\"1\" class=\"dataframe\">\n",
       "  <thead>\n",
       "    <tr style=\"text-align: right;\">\n",
       "      <th></th>\n",
       "      <th>Id</th>\n",
       "      <th>Drone Type</th>\n",
       "      <th>Post Type</th>\n",
       "      <th>Package Weight</th>\n",
       "      <th>Origin Region</th>\n",
       "      <th>Destination Region</th>\n",
       "      <th>Origin Latitude</th>\n",
       "      <th>Origin Longitude</th>\n",
       "      <th>Destination Latitude</th>\n",
       "      <th>Destination Longitude</th>\n",
       "      <th>Journey Distance</th>\n",
       "      <th>Departure Date</th>\n",
       "      <th>Departure Time</th>\n",
       "      <th>Travel Time</th>\n",
       "      <th>Delivery Time</th>\n",
       "      <th>Delivery Fare</th>\n",
       "    </tr>\n",
       "  </thead>\n",
       "  <tbody>\n",
       "  </tbody>\n",
       "</table>\n",
       "</div>"
      ],
      "text/plain": [
       "Empty DataFrame\n",
       "Columns: [Id, Drone Type, Post Type, Package Weight, Origin Region, Destination Region, Origin Latitude, Origin Longitude, Destination Latitude, Destination Longitude, Journey Distance, Departure Date, Departure Time, Travel Time, Delivery Time, Delivery Fare]\n",
       "Index: []"
      ]
     },
     "execution_count": 20,
     "metadata": {},
     "output_type": "execute_result"
    }
   ],
   "source": [
    "data[data.iloc[:,6:7].values >0]"
   ]
  },
  {
   "cell_type": "markdown",
   "metadata": {},
   "source": [
    "## 7-2 Origin Longitude fix"
   ]
  },
  {
   "cell_type": "code",
   "execution_count": 21,
   "metadata": {},
   "outputs": [],
   "source": [
    "converted_orign_long = convert_neg_to_pos(data.iloc[:,7:8].values)"
   ]
  },
  {
   "cell_type": "code",
   "execution_count": 22,
   "metadata": {},
   "outputs": [],
   "source": [
    "data[\"Origin Longitude\"] = converted_orign_long\n",
    "data[\"Origin Longitude\"] = data[\"Origin Longitude\"].astype(float)\n",
    "pd.options.display.float_format = \"{:,.6f}\".format"
   ]
  },
  {
   "cell_type": "markdown",
   "metadata": {},
   "source": [
    "-----------------"
   ]
  },
  {
   "cell_type": "markdown",
   "metadata": {},
   "source": [
    "# 8- Post type fix"
   ]
  },
  {
   "cell_type": "markdown",
   "metadata": {},
   "source": [
    " Observation: The data set consists of 20 Post Type null values, looking at the below screenshot we conclude that most of the ID's starting with 1 have Post Type as 0 and ID's starting with 5 have Post Type as 1"
   ]
  },
  {
   "attachments": {},
   "cell_type": "markdown",
   "metadata": {},
   "source": [
    "![](Images_drone/PostType.PNG)"
   ]
  },
  {
   "cell_type": "code",
   "execution_count": 23,
   "metadata": {},
   "outputs": [],
   "source": [
    "def clean_Post_Type(id_data):\n",
    "    if re.match(\"ID5\",id_data):\n",
    "        return 1.0\n",
    "    else:\n",
    "        return 0.0\n",
    "    \n",
    "data['Post Type'] = data['Id'].apply(lambda each_row: clean_Post_Type(each_row)\\\n",
    "                                           if(str(each_row) != 'nan') else each_row)"
   ]
  },
  {
   "cell_type": "markdown",
   "metadata": {},
   "source": [
    "-----"
   ]
  },
  {
   "cell_type": "markdown",
   "metadata": {},
   "source": [
    "## 9 -Validating the Journey Distance using Earth radius and Haversine formula"
   ]
  },
  {
   "cell_type": "code",
   "execution_count": 24,
   "metadata": {},
   "outputs": [],
   "source": [
    "from math import sin, cos, sqrt, atan2, radians\n",
    "\n",
    "def fix_dist(o_lat,o_lon,d_lat,d_lon):\n",
    "\n",
    "    R = 6378.0\n",
    "#     print(o_lat)\n",
    "#     print(o_lon)\n",
    "#     print(d_lat)\n",
    "#     print(d_lon)\n",
    "\n",
    "    lat1 = radians(o_lat)\n",
    "    lon1 = radians(o_lon)\n",
    "    lat2 = radians(d_lat)\n",
    "    lon2 = radians(d_lon)\n",
    "\n",
    "    dlon = lon2 - lon1\n",
    "    dlat = lat2 - lat1\n",
    "\n",
    "    a = sin(dlat / 2)**2 + cos(lat1) * cos(lat2) * sin(dlon / 2)**2\n",
    "    c = 2 * atan2(sqrt(a), sqrt(1 - a))\n",
    "\n",
    "    distance = R * c\n",
    "    distance = round(distance,3)\n",
    "    return distance"
   ]
  },
  {
   "cell_type": "code",
   "execution_count": 25,
   "metadata": {},
   "outputs": [],
   "source": [
    "test_df = data.copy()\n",
    "\n",
    "test_df['New_Distance'] = test_df.apply(\n",
    "    lambda row: pd.Series(fix_dist(row['Origin Latitude'], row['Origin Longitude'],row['Destination Latitude'],\\\n",
    "                                   row['Destination Longitude'])), axis=1)"
   ]
  },
  {
   "cell_type": "code",
   "execution_count": 26,
   "metadata": {},
   "outputs": [
    {
     "data": {
      "text/html": [
       "<div>\n",
       "<style scoped>\n",
       "    .dataframe tbody tr th:only-of-type {\n",
       "        vertical-align: middle;\n",
       "    }\n",
       "\n",
       "    .dataframe tbody tr th {\n",
       "        vertical-align: top;\n",
       "    }\n",
       "\n",
       "    .dataframe thead th {\n",
       "        text-align: right;\n",
       "    }\n",
       "</style>\n",
       "<table border=\"1\" class=\"dataframe\">\n",
       "  <thead>\n",
       "    <tr style=\"text-align: right;\">\n",
       "      <th></th>\n",
       "      <th>Id</th>\n",
       "      <th>Journey Distance</th>\n",
       "      <th>New_Distance</th>\n",
       "    </tr>\n",
       "  </thead>\n",
       "  <tbody>\n",
       "    <tr>\n",
       "      <td>4297</td>\n",
       "      <td>ID1914453733</td>\n",
       "      <td>350.871000</td>\n",
       "      <td>345.071000</td>\n",
       "    </tr>\n",
       "    <tr>\n",
       "      <td>4321</td>\n",
       "      <td>ID1344783067</td>\n",
       "      <td>167.685000</td>\n",
       "      <td>170.585000</td>\n",
       "    </tr>\n",
       "    <tr>\n",
       "      <td>5157</td>\n",
       "      <td>ID1652809906</td>\n",
       "      <td>282.821000</td>\n",
       "      <td>284.921000</td>\n",
       "    </tr>\n",
       "    <tr>\n",
       "      <td>5804</td>\n",
       "      <td>ID1437571294</td>\n",
       "      <td>387.640000</td>\n",
       "      <td>383.940000</td>\n",
       "    </tr>\n",
       "    <tr>\n",
       "      <td>8394</td>\n",
       "      <td>ID5907496437</td>\n",
       "      <td>47.548000</td>\n",
       "      <td>38.348000</td>\n",
       "    </tr>\n",
       "    <tr>\n",
       "      <td>12322</td>\n",
       "      <td>ID1724446678</td>\n",
       "      <td>124.620000</td>\n",
       "      <td>118.920000</td>\n",
       "    </tr>\n",
       "    <tr>\n",
       "      <td>14030</td>\n",
       "      <td>ID1949877322</td>\n",
       "      <td>244.918000</td>\n",
       "      <td>241.618000</td>\n",
       "    </tr>\n",
       "    <tr>\n",
       "      <td>14545</td>\n",
       "      <td>ID1990830084</td>\n",
       "      <td>110.668000</td>\n",
       "      <td>102.768000</td>\n",
       "    </tr>\n",
       "    <tr>\n",
       "      <td>16578</td>\n",
       "      <td>ID1829116263</td>\n",
       "      <td>238.266000</td>\n",
       "      <td>234.266000</td>\n",
       "    </tr>\n",
       "    <tr>\n",
       "      <td>18650</td>\n",
       "      <td>ID1716695648</td>\n",
       "      <td>380.373000</td>\n",
       "      <td>376.873000</td>\n",
       "    </tr>\n",
       "    <tr>\n",
       "      <td>22749</td>\n",
       "      <td>ID1181180319</td>\n",
       "      <td>154.411000</td>\n",
       "      <td>146.011000</td>\n",
       "    </tr>\n",
       "    <tr>\n",
       "      <td>22757</td>\n",
       "      <td>ID1358497300</td>\n",
       "      <td>161.555000</td>\n",
       "      <td>154.355000</td>\n",
       "    </tr>\n",
       "    <tr>\n",
       "      <td>24796</td>\n",
       "      <td>ID1602307026</td>\n",
       "      <td>212.745000</td>\n",
       "      <td>202.845000</td>\n",
       "    </tr>\n",
       "    <tr>\n",
       "      <td>30931</td>\n",
       "      <td>ID1635571364</td>\n",
       "      <td>458.923000</td>\n",
       "      <td>456.423000</td>\n",
       "    </tr>\n",
       "  </tbody>\n",
       "</table>\n",
       "</div>"
      ],
      "text/plain": [
       "                 Id  Journey Distance  New_Distance\n",
       "4297   ID1914453733        350.871000    345.071000\n",
       "4321   ID1344783067        167.685000    170.585000\n",
       "5157   ID1652809906        282.821000    284.921000\n",
       "5804   ID1437571294        387.640000    383.940000\n",
       "8394   ID5907496437         47.548000     38.348000\n",
       "12322  ID1724446678        124.620000    118.920000\n",
       "14030  ID1949877322        244.918000    241.618000\n",
       "14545  ID1990830084        110.668000    102.768000\n",
       "16578  ID1829116263        238.266000    234.266000\n",
       "18650  ID1716695648        380.373000    376.873000\n",
       "22749  ID1181180319        154.411000    146.011000\n",
       "22757  ID1358497300        161.555000    154.355000\n",
       "24796  ID1602307026        212.745000    202.845000\n",
       "30931  ID1635571364        458.923000    456.423000"
      ]
     },
     "execution_count": 26,
     "metadata": {},
     "output_type": "execute_result"
    }
   ],
   "source": [
    "test_df[round(test_df['Journey Distance'],2) != round(test_df['New_Distance'],2) ][['Id','Journey Distance','New_Distance']]"
   ]
  },
  {
   "cell_type": "markdown",
   "metadata": {},
   "source": [
    "##  Journey Distance - 14 wrong values : moving forward, New_Distance is used  with correct values"
   ]
  },
  {
   "cell_type": "markdown",
   "metadata": {},
   "source": [
    "----"
   ]
  },
  {
   "cell_type": "markdown",
   "metadata": {},
   "source": [
    "## 10- Origin Region"
   ]
  },
  {
   "cell_type": "markdown",
   "metadata": {},
   "source": [
    "![](Images_drone/OriginRegion.PNG)"
   ]
  },
  {
   "cell_type": "markdown",
   "metadata": {},
   "source": [
    "## 10-1 Detecting and addressing Outliers for Origin Latitude and Longitude w.r.t Origin Region"
   ]
  },
  {
   "cell_type": "code",
   "execution_count": 27,
   "metadata": {},
   "outputs": [
    {
     "data": {
      "text/plain": [
       "<matplotlib.axes._subplots.AxesSubplot at 0x1c0e6f7abc8>"
      ]
     },
     "execution_count": 27,
     "metadata": {},
     "output_type": "execute_result"
    },
    {
     "data": {
      "image/png": "[encoded data removed]",
      "text/plain": [
       "<Figure size 1080x720 with 1 Axes>"
      ]
     },
     "metadata": {
      "needs_background": "light"
     },
     "output_type": "display_data"
    }
   ],
   "source": [
    "plt.rcParams['figure.figsize']=15,10\n",
    "xi=test_df[['Origin Latitude','Origin Longitude','Origin Region']]\n",
    "sns.boxplot(data=xi,x='Origin Region',y='Origin Latitude')"
   ]
  },
  {
   "cell_type": "markdown",
   "metadata": {},
   "source": [
    "## 10-2 Outlier finder - Inter Quartile Range (IQR)"
   ]
  },
  {
   "cell_type": "code",
   "execution_count": 28,
   "metadata": {},
   "outputs": [],
   "source": [
    "def treat_outliers(region_no,sample_df,option):\n",
    "#     outliers_df = test_df[['Origin Latitude','Origin Longitude','Origin Region']]\n",
    "\n",
    "    sample_df=sample_df.copy()\n",
    "    if option == \"Origin\":\n",
    "        \n",
    "        sample_df = sample_df[sample_df['Origin Region']==region_no]\n",
    "        \n",
    "    else:\n",
    "        sample_df = sample_df[sample_df['Destination Region']==region_no]\n",
    "    \n",
    "    Q1 = sample_df.quantile(0.25)\n",
    "    Q3 = sample_df.quantile(0.75)\n",
    "    IQR = Q3 - Q1\n",
    "#     print(IQR)\n",
    "\n",
    "    try:\n",
    "        #clean\n",
    "        clean = sample_df[~((sample_df < (Q1 - 1.5 * IQR)) |(sample_df > (Q3 + 1.5 * IQR))).any(axis=1)]\n",
    "#         print(clean)\n",
    "        #outlier\n",
    "        outliers = sample_df[((sample_df < (Q1 - 1.5 * IQR)) |(sample_df > (Q3 + 1.5 * IQR))).any(axis=1)]\n",
    "#         print(outliers)\n",
    "\n",
    "    except :\n",
    "        print(region_no)\n",
    "        \n",
    "    return clean,outliers"
   ]
  },
  {
   "cell_type": "markdown",
   "metadata": {},
   "source": [
    "## For loop to seperate the clean data from outliers and storing them seperately"
   ]
  },
  {
   "cell_type": "code",
   "execution_count": 29,
   "metadata": {},
   "outputs": [],
   "source": [
    "def final_fix_regions(regions_list,sample_df,option):\n",
    "    sample_df=sample_df.copy()\n",
    "    final_cleaned_df=pd.DataFrame()\n",
    "    final_outlier_df=pd.DataFrame()\n",
    "\n",
    "    for i in regions_list:\n",
    "        cleaned_df,outlier_df = treat_outliers(i,sample_df,option)\n",
    "    #     print(i)\n",
    "        final_cleaned_df= pd.concat([final_cleaned_df,cleaned_df])\n",
    "        final_outlier_df= pd.concat([final_outlier_df,outlier_df])\n",
    "        \n",
    "    return final_cleaned_df,final_outlier_df"
   ]
  },
  {
   "cell_type": "markdown",
   "metadata": {},
   "source": [
    "## 10-3 Separate Outlier and Clean data in Origion region"
   ]
  },
  {
   "cell_type": "code",
   "execution_count": 30,
   "metadata": {},
   "outputs": [],
   "source": [
    "# for loop, appending dataframe\n",
    "main_origin_df = test_df[['Origin Latitude','Origin Longitude','Origin Region']]\n",
    "origin_regions_list = main_origin_df[~main_origin_df['Origin Region'].isnull()]['Origin Region'].unique().tolist()\n",
    "\n",
    "origin_regions_list = [int(each_number) for each_number in origin_regions_list]\n",
    "\n",
    "\n",
    "#result\n",
    "origin_option=\"Origin\"\n",
    "Origin_cleaned_df,Origin_outlier_df = final_fix_regions(origin_regions_list,main_origin_df,origin_option)\n",
    "\n"
   ]
  },
  {
   "cell_type": "markdown",
   "metadata": {},
   "source": [
    "## 10-4 Finally appending the Nan values from the data to outliers so it can be further treated"
   ]
  },
  {
   "cell_type": "code",
   "execution_count": 31,
   "metadata": {},
   "outputs": [],
   "source": [
    "nan_values = main_origin_df[main_origin_df['Origin Region'].isnull()]\n",
    "Origin_outlier_df = pd.concat([Origin_outlier_df,nan_values]) "
   ]
  },
  {
   "cell_type": "code",
   "execution_count": 32,
   "metadata": {},
   "outputs": [
    {
     "data": {
      "text/html": [
       "<div>\n",
       "<style scoped>\n",
       "    .dataframe tbody tr th:only-of-type {\n",
       "        vertical-align: middle;\n",
       "    }\n",
       "\n",
       "    .dataframe tbody tr th {\n",
       "        vertical-align: top;\n",
       "    }\n",
       "\n",
       "    .dataframe thead th {\n",
       "        text-align: right;\n",
       "    }\n",
       "</style>\n",
       "<table border=\"1\" class=\"dataframe\">\n",
       "  <thead>\n",
       "    <tr style=\"text-align: right;\">\n",
       "      <th></th>\n",
       "      <th>Origin Latitude</th>\n",
       "      <th>Origin Longitude</th>\n",
       "      <th>Origin Region</th>\n",
       "    </tr>\n",
       "  </thead>\n",
       "  <tbody>\n",
       "    <tr>\n",
       "      <td>0</td>\n",
       "      <td>-37.543231</td>\n",
       "      <td>146.694631</td>\n",
       "      <td>9.000000</td>\n",
       "    </tr>\n",
       "    <tr>\n",
       "      <td>88</td>\n",
       "      <td>-37.455333</td>\n",
       "      <td>146.822500</td>\n",
       "      <td>9.000000</td>\n",
       "    </tr>\n",
       "    <tr>\n",
       "      <td>116</td>\n",
       "      <td>-37.271781</td>\n",
       "      <td>146.673656</td>\n",
       "      <td>9.000000</td>\n",
       "    </tr>\n",
       "    <tr>\n",
       "      <td>141</td>\n",
       "      <td>-37.382014</td>\n",
       "      <td>146.766553</td>\n",
       "      <td>9.000000</td>\n",
       "    </tr>\n",
       "    <tr>\n",
       "      <td>177</td>\n",
       "      <td>-37.283540</td>\n",
       "      <td>146.715999</td>\n",
       "      <td>9.000000</td>\n",
       "    </tr>\n",
       "  </tbody>\n",
       "</table>\n",
       "</div>"
      ],
      "text/plain": [
       "     Origin Latitude  Origin Longitude  Origin Region\n",
       "0         -37.543231        146.694631       9.000000\n",
       "88        -37.455333        146.822500       9.000000\n",
       "116       -37.271781        146.673656       9.000000\n",
       "141       -37.382014        146.766553       9.000000\n",
       "177       -37.283540        146.715999       9.000000"
      ]
     },
     "execution_count": 32,
     "metadata": {},
     "output_type": "execute_result"
    }
   ],
   "source": [
    "Origin_cleaned_df.head()"
   ]
  },
  {
   "cell_type": "code",
   "execution_count": 33,
   "metadata": {},
   "outputs": [
    {
     "data": {
      "text/html": [
       "<div>\n",
       "<style scoped>\n",
       "    .dataframe tbody tr th:only-of-type {\n",
       "        vertical-align: middle;\n",
       "    }\n",
       "\n",
       "    .dataframe tbody tr th {\n",
       "        vertical-align: top;\n",
       "    }\n",
       "\n",
       "    .dataframe thead th {\n",
       "        text-align: right;\n",
       "    }\n",
       "</style>\n",
       "<table border=\"1\" class=\"dataframe\">\n",
       "  <thead>\n",
       "    <tr style=\"text-align: right;\">\n",
       "      <th></th>\n",
       "      <th>Origin Latitude</th>\n",
       "      <th>Origin Longitude</th>\n",
       "      <th>Origin Region</th>\n",
       "    </tr>\n",
       "  </thead>\n",
       "  <tbody>\n",
       "    <tr>\n",
       "      <td>26896</td>\n",
       "      <td>-38.611055</td>\n",
       "      <td>143.460159</td>\n",
       "      <td>9.000000</td>\n",
       "    </tr>\n",
       "    <tr>\n",
       "      <td>31442</td>\n",
       "      <td>-37.365451</td>\n",
       "      <td>144.105447</td>\n",
       "      <td>9.000000</td>\n",
       "    </tr>\n",
       "    <tr>\n",
       "      <td>5161</td>\n",
       "      <td>-38.020598</td>\n",
       "      <td>145.273632</td>\n",
       "      <td>1.000000</td>\n",
       "    </tr>\n",
       "    <tr>\n",
       "      <td>8462</td>\n",
       "      <td>-37.955790</td>\n",
       "      <td>144.996391</td>\n",
       "      <td>1.000000</td>\n",
       "    </tr>\n",
       "    <tr>\n",
       "      <td>30999</td>\n",
       "      <td>-36.902461</td>\n",
       "      <td>145.771817</td>\n",
       "      <td>14.000000</td>\n",
       "    </tr>\n",
       "  </tbody>\n",
       "</table>\n",
       "</div>"
      ],
      "text/plain": [
       "       Origin Latitude  Origin Longitude  Origin Region\n",
       "26896       -38.611055        143.460159       9.000000\n",
       "31442       -37.365451        144.105447       9.000000\n",
       "5161        -38.020598        145.273632       1.000000\n",
       "8462        -37.955790        144.996391       1.000000\n",
       "30999       -36.902461        145.771817      14.000000"
      ]
     },
     "execution_count": 33,
     "metadata": {},
     "output_type": "execute_result"
    }
   ],
   "source": [
    "Origin_outlier_df.head()"
   ]
  },
  {
   "cell_type": "markdown",
   "metadata": {},
   "source": [
    "## 10-5 Applying K-NN algorithm (classification Technique) to train the model from clean data and predict the values for  the outliers and Nan values"
   ]
  },
  {
   "cell_type": "markdown",
   "metadata": {},
   "source": [
    "## Training K-NN algorithm on Origin clean data"
   ]
  },
  {
   "cell_type": "code",
   "execution_count": 34,
   "metadata": {},
   "outputs": [],
   "source": [
    "x_train = Origin_cleaned_df[[\"Origin Latitude\",\"Origin Longitude\"]].values\n",
    "y_train = Origin_cleaned_df[[\"Origin Region\"]].values\n",
    "\n",
    "x_test = Origin_outlier_df[[\"Origin Latitude\",\"Origin Longitude\"]].values\n",
    "# Filling the Nan values with 0 \n",
    "Origin_outlier_df[[\"Origin Region\"]] = Origin_outlier_df[[\"Origin Region\"]].fillna(0)\n",
    "y_test = Origin_outlier_df[[\"Origin Region\"]].values"
   ]
  },
  {
   "cell_type": "markdown",
   "metadata": {},
   "source": [
    "## 10-6 Finding the optimum -K value through Grid Search method"
   ]
  },
  {
   "cell_type": "code",
   "execution_count": 35,
   "metadata": {},
   "outputs": [
    {
     "data": {
      "text/plain": [
       "{'n_neighbors': 9}"
      ]
     },
     "execution_count": 35,
     "metadata": {},
     "output_type": "execute_result"
    }
   ],
   "source": [
    "from sklearn.model_selection import GridSearchCV\n",
    "params = {'n_neighbors':[2,3,4,5,6,7,8,9]}\n",
    "\n",
    "knn = neighbors.KNeighborsRegressor()\n",
    "model = GridSearchCV(knn, params, cv=5)\n",
    "model.fit(x_train,y_train)\n",
    "model.best_params_"
   ]
  },
  {
   "cell_type": "markdown",
   "metadata": {},
   "source": [
    "## The optimal K value according to Grid Search is K = 9. Therefore, training the model(Origin - clean data) with K=9"
   ]
  },
  {
   "cell_type": "code",
   "execution_count": 36,
   "metadata": {},
   "outputs": [
    {
     "data": {
      "text/plain": [
       "KNeighborsClassifier(algorithm='auto', leaf_size=30, metric='minkowski',\n",
       "                     metric_params=None, n_jobs=None, n_neighbors=9, p=2,\n",
       "                     weights='uniform')"
      ]
     },
     "execution_count": 36,
     "metadata": {},
     "output_type": "execute_result"
    }
   ],
   "source": [
    "from sklearn.neighbors import KNeighborsClassifier\n",
    "classifier = KNeighborsClassifier(n_neighbors = 9, metric = 'minkowski', p =2)\n",
    "classifier.fit(x_train,y_train)"
   ]
  },
  {
   "cell_type": "markdown",
   "metadata": {},
   "source": [
    "## 10-7 Predicting the Origin test_set values"
   ]
  },
  {
   "cell_type": "code",
   "execution_count": 37,
   "metadata": {},
   "outputs": [
    {
     "name": "stdout",
     "output_type": "stream",
     "text": [
      "[[12.  9.]\n",
      " [11.  9.]\n",
      " [27.  1.]\n",
      " [27.  1.]\n",
      " [37. 14.]\n",
      " [47. 12.]\n",
      " [ 5.  7.]\n",
      " [36. 10.]\n",
      " [11. 19.]\n",
      " [42. 36.]\n",
      " [ 1. 26.]\n",
      " [ 8.  2.]\n",
      " [41. 17.]\n",
      " [ 2. 20.]\n",
      " [39. 20.]\n",
      " [ 4. 46.]\n",
      " [20. 46.]\n",
      " [47. 46.]\n",
      " [30. 46.]\n",
      " [23. 27.]\n",
      " [29.  0.]\n",
      " [38.  0.]\n",
      " [13.  0.]\n",
      " [41.  0.]\n",
      " [39.  0.]\n",
      " [ 5.  0.]\n",
      " [27.  0.]\n",
      " [14.  0.]\n",
      " [32.  0.]\n",
      " [28.  0.]]\n"
     ]
    }
   ],
   "source": [
    "y_pred = classifier.predict(x_test)\n",
    "# comparing predicted result with x_test result\n",
    "print(np.concatenate((y_pred.reshape(len(y_pred),1), y_test.reshape(len(y_test),1)),1))"
   ]
  },
  {
   "cell_type": "code",
   "execution_count": 38,
   "metadata": {},
   "outputs": [],
   "source": [
    "fixed_Origin_outlier_df = Origin_outlier_df.copy()\n",
    "fixed_Origin_outlier_df[\"Origin Region\"] = pd.Series(y_pred).values"
   ]
  },
  {
   "cell_type": "code",
   "execution_count": 39,
   "metadata": {},
   "outputs": [
    {
     "data": {
      "text/html": [
       "<div>\n",
       "<style scoped>\n",
       "    .dataframe tbody tr th:only-of-type {\n",
       "        vertical-align: middle;\n",
       "    }\n",
       "\n",
       "    .dataframe tbody tr th {\n",
       "        vertical-align: top;\n",
       "    }\n",
       "\n",
       "    .dataframe thead th {\n",
       "        text-align: right;\n",
       "    }\n",
       "</style>\n",
       "<table border=\"1\" class=\"dataframe\">\n",
       "  <thead>\n",
       "    <tr style=\"text-align: right;\">\n",
       "      <th></th>\n",
       "      <th>Origin Latitude</th>\n",
       "      <th>Origin Longitude</th>\n",
       "      <th>Origin Region</th>\n",
       "    </tr>\n",
       "  </thead>\n",
       "  <tbody>\n",
       "    <tr>\n",
       "      <td>26896</td>\n",
       "      <td>-38.611055</td>\n",
       "      <td>143.460159</td>\n",
       "      <td>12.000000</td>\n",
       "    </tr>\n",
       "    <tr>\n",
       "      <td>31442</td>\n",
       "      <td>-37.365451</td>\n",
       "      <td>144.105447</td>\n",
       "      <td>11.000000</td>\n",
       "    </tr>\n",
       "    <tr>\n",
       "      <td>5161</td>\n",
       "      <td>-38.020598</td>\n",
       "      <td>145.273632</td>\n",
       "      <td>27.000000</td>\n",
       "    </tr>\n",
       "    <tr>\n",
       "      <td>8462</td>\n",
       "      <td>-37.955790</td>\n",
       "      <td>144.996391</td>\n",
       "      <td>27.000000</td>\n",
       "    </tr>\n",
       "    <tr>\n",
       "      <td>30999</td>\n",
       "      <td>-36.902461</td>\n",
       "      <td>145.771817</td>\n",
       "      <td>37.000000</td>\n",
       "    </tr>\n",
       "  </tbody>\n",
       "</table>\n",
       "</div>"
      ],
      "text/plain": [
       "       Origin Latitude  Origin Longitude  Origin Region\n",
       "26896       -38.611055        143.460159      12.000000\n",
       "31442       -37.365451        144.105447      11.000000\n",
       "5161        -38.020598        145.273632      27.000000\n",
       "8462        -37.955790        144.996391      27.000000\n",
       "30999       -36.902461        145.771817      37.000000"
      ]
     },
     "execution_count": 39,
     "metadata": {},
     "output_type": "execute_result"
    }
   ],
   "source": [
    "fixed_Origin_outlier_df.head()"
   ]
  },
  {
   "cell_type": "markdown",
   "metadata": {},
   "source": [
    "## Combining the fixed outlier with the clean dataset"
   ]
  },
  {
   "cell_type": "code",
   "execution_count": 40,
   "metadata": {},
   "outputs": [],
   "source": [
    "test_df[[\"Origin Latitude\",\"Origin Longitude\",\"Origin Region\"]] = pd.concat([Origin_cleaned_df,fixed_Origin_outlier_df])"
   ]
  },
  {
   "cell_type": "markdown",
   "metadata": {},
   "source": [
    "## 10-8 Similarly the same procedure is followed to fix the Outliers for Destination Region"
   ]
  },
  {
   "cell_type": "code",
   "execution_count": 41,
   "metadata": {},
   "outputs": [
    {
     "data": {
      "text/plain": [
       "<matplotlib.axes._subplots.AxesSubplot at 0x1c0e07c4588>"
      ]
     },
     "execution_count": 41,
     "metadata": {},
     "output_type": "execute_result"
    },
    {
     "data": {
      "image/png": "[encoded data removed]",
      "text/plain": [
       "<Figure size 1080x720 with 1 Axes>"
      ]
     },
     "metadata": {
      "needs_background": "light"
     },
     "output_type": "display_data"
    }
   ],
   "source": [
    "plt.rcParams['figure.figsize']=15,10\n",
    "xi=test_df[['Destination Latitude','Destination Longitude','Destination Region']]\n",
    "sns.boxplot(data=xi,x='Destination Region',y='Destination Latitude')"
   ]
  },
  {
   "cell_type": "code",
   "execution_count": 42,
   "metadata": {},
   "outputs": [],
   "source": [
    "# for loop, appending dataframe\n",
    "main_destination_df = test_df[['Destination Latitude','Destination Longitude','Destination Region']]\n",
    "destination_regions_list = main_destination_df[~main_destination_df['Destination Region'].isnull()]['Destination Region'].unique().tolist()\n",
    "\n",
    "destination_regions_list = [int(each_number) for each_number in destination_regions_list]\n",
    "\n",
    "\n",
    "#result\n",
    "Destination_option=\"Destination\"\n",
    "Destination_cleaned_df,Destination_outlier_df = final_fix_regions(destination_regions_list,main_destination_df,Destination_option)"
   ]
  },
  {
   "cell_type": "code",
   "execution_count": 43,
   "metadata": {},
   "outputs": [
    {
     "data": {
      "text/html": [
       "<div>\n",
       "<style scoped>\n",
       "    .dataframe tbody tr th:only-of-type {\n",
       "        vertical-align: middle;\n",
       "    }\n",
       "\n",
       "    .dataframe tbody tr th {\n",
       "        vertical-align: top;\n",
       "    }\n",
       "\n",
       "    .dataframe thead th {\n",
       "        text-align: right;\n",
       "    }\n",
       "</style>\n",
       "<table border=\"1\" class=\"dataframe\">\n",
       "  <thead>\n",
       "    <tr style=\"text-align: right;\">\n",
       "      <th></th>\n",
       "      <th>Destination Latitude</th>\n",
       "      <th>Destination Longitude</th>\n",
       "      <th>Destination Region</th>\n",
       "    </tr>\n",
       "  </thead>\n",
       "  <tbody>\n",
       "    <tr>\n",
       "      <td>0</td>\n",
       "      <td>-38.688709</td>\n",
       "      <td>147.836706</td>\n",
       "      <td>8.000000</td>\n",
       "    </tr>\n",
       "    <tr>\n",
       "      <td>152</td>\n",
       "      <td>-38.940284</td>\n",
       "      <td>147.933297</td>\n",
       "      <td>8.000000</td>\n",
       "    </tr>\n",
       "    <tr>\n",
       "      <td>154</td>\n",
       "      <td>-38.939806</td>\n",
       "      <td>148.050175</td>\n",
       "      <td>8.000000</td>\n",
       "    </tr>\n",
       "    <tr>\n",
       "      <td>182</td>\n",
       "      <td>-38.701933</td>\n",
       "      <td>147.957402</td>\n",
       "      <td>8.000000</td>\n",
       "    </tr>\n",
       "    <tr>\n",
       "      <td>217</td>\n",
       "      <td>-38.844162</td>\n",
       "      <td>148.150121</td>\n",
       "      <td>8.000000</td>\n",
       "    </tr>\n",
       "  </tbody>\n",
       "</table>\n",
       "</div>"
      ],
      "text/plain": [
       "     Destination Latitude  Destination Longitude  Destination Region\n",
       "0              -38.688709             147.836706            8.000000\n",
       "152            -38.940284             147.933297            8.000000\n",
       "154            -38.939806             148.050175            8.000000\n",
       "182            -38.701933             147.957402            8.000000\n",
       "217            -38.844162             148.150121            8.000000"
      ]
     },
     "execution_count": 43,
     "metadata": {},
     "output_type": "execute_result"
    }
   ],
   "source": [
    "Destination_cleaned_df.head()"
   ]
  },
  {
   "cell_type": "markdown",
   "metadata": {},
   "source": [
    "## Appending Nan values to Destination_outlier_df"
   ]
  },
  {
   "cell_type": "code",
   "execution_count": 44,
   "metadata": {},
   "outputs": [],
   "source": [
    "nan_values = main_destination_df[main_destination_df['Destination Region'].isnull()]\n",
    "Destination_outlier_df = pd.concat([Destination_outlier_df,nan_values]) "
   ]
  },
  {
   "cell_type": "code",
   "execution_count": 45,
   "metadata": {},
   "outputs": [
    {
     "data": {
      "text/html": [
       "<div>\n",
       "<style scoped>\n",
       "    .dataframe tbody tr th:only-of-type {\n",
       "        vertical-align: middle;\n",
       "    }\n",
       "\n",
       "    .dataframe tbody tr th {\n",
       "        vertical-align: top;\n",
       "    }\n",
       "\n",
       "    .dataframe thead th {\n",
       "        text-align: right;\n",
       "    }\n",
       "</style>\n",
       "<table border=\"1\" class=\"dataframe\">\n",
       "  <thead>\n",
       "    <tr style=\"text-align: right;\">\n",
       "      <th></th>\n",
       "      <th>Destination Latitude</th>\n",
       "      <th>Destination Longitude</th>\n",
       "      <th>Destination Region</th>\n",
       "    </tr>\n",
       "  </thead>\n",
       "  <tbody>\n",
       "    <tr>\n",
       "      <td>6445</td>\n",
       "      <td>-37.578957</td>\n",
       "      <td>145.371221</td>\n",
       "      <td>43.000000</td>\n",
       "    </tr>\n",
       "    <tr>\n",
       "      <td>8505</td>\n",
       "      <td>-38.539133</td>\n",
       "      <td>147.144486</td>\n",
       "      <td>11.000000</td>\n",
       "    </tr>\n",
       "    <tr>\n",
       "      <td>24901</td>\n",
       "      <td>-38.091929</td>\n",
       "      <td>148.330638</td>\n",
       "      <td>3.000000</td>\n",
       "    </tr>\n",
       "    <tr>\n",
       "      <td>26948</td>\n",
       "      <td>-36.548344</td>\n",
       "      <td>147.935812</td>\n",
       "      <td>15.000000</td>\n",
       "    </tr>\n",
       "    <tr>\n",
       "      <td>21415</td>\n",
       "      <td>-36.871746</td>\n",
       "      <td>145.619935</td>\n",
       "      <td>35.000000</td>\n",
       "    </tr>\n",
       "  </tbody>\n",
       "</table>\n",
       "</div>"
      ],
      "text/plain": [
       "       Destination Latitude  Destination Longitude  Destination Region\n",
       "6445             -37.578957             145.371221           43.000000\n",
       "8505             -38.539133             147.144486           11.000000\n",
       "24901            -38.091929             148.330638            3.000000\n",
       "26948            -36.548344             147.935812           15.000000\n",
       "21415            -36.871746             145.619935           35.000000"
      ]
     },
     "execution_count": 45,
     "metadata": {},
     "output_type": "execute_result"
    }
   ],
   "source": [
    "Destination_outlier_df.head()"
   ]
  },
  {
   "cell_type": "markdown",
   "metadata": {},
   "source": [
    "## 10-9 Training KNN model on clean Destination df to predict the outlier Destination df"
   ]
  },
  {
   "cell_type": "code",
   "execution_count": 46,
   "metadata": {},
   "outputs": [],
   "source": [
    "X_train = Destination_cleaned_df[[\"Destination Latitude\",\"Destination Longitude\"]].values\n",
    "Y_train = Destination_cleaned_df[[\"Destination Region\"]].values\n",
    "\n",
    "X_test = Destination_outlier_df[[\"Destination Latitude\",\"Destination Longitude\"]].values\n",
    "# Filling the Nan values with 0 \n",
    "Destination_outlier_df[[\"Destination Region\"]] = Destination_outlier_df[[\"Destination Region\"]].fillna(0)\n",
    "Y_test = Destination_outlier_df[[\"Destination Region\"]].values"
   ]
  },
  {
   "cell_type": "markdown",
   "metadata": {},
   "source": [
    "## Grid search to find Optimal K value"
   ]
  },
  {
   "cell_type": "code",
   "execution_count": 47,
   "metadata": {},
   "outputs": [
    {
     "data": {
      "text/plain": [
       "{'n_neighbors': 9}"
      ]
     },
     "execution_count": 47,
     "metadata": {},
     "output_type": "execute_result"
    }
   ],
   "source": [
    "from sklearn.model_selection import GridSearchCV\n",
    "params = {'n_neighbors':[2,3,4,5,6,7,8,9]}\n",
    "\n",
    "knn = neighbors.KNeighborsRegressor()\n",
    "model = GridSearchCV(knn, params, cv=5)\n",
    "model.fit(X_train,Y_train)\n",
    "model.best_params_"
   ]
  },
  {
   "cell_type": "markdown",
   "metadata": {},
   "source": [
    "## Optimal K value = 9"
   ]
  },
  {
   "cell_type": "code",
   "execution_count": 48,
   "metadata": {},
   "outputs": [
    {
     "data": {
      "text/plain": [
       "KNeighborsClassifier(algorithm='auto', leaf_size=30, metric='minkowski',\n",
       "                     metric_params=None, n_jobs=None, n_neighbors=9, p=2,\n",
       "                     weights='uniform')"
      ]
     },
     "execution_count": 48,
     "metadata": {},
     "output_type": "execute_result"
    }
   ],
   "source": [
    "from sklearn.neighbors import KNeighborsClassifier\n",
    "classifier = KNeighborsClassifier(n_neighbors = 9, metric = 'minkowski', p =2)\n",
    "classifier.fit(X_train,Y_train)"
   ]
  },
  {
   "cell_type": "markdown",
   "metadata": {},
   "source": [
    "## 10-10 Predicting the test set values"
   ]
  },
  {
   "cell_type": "code",
   "execution_count": 49,
   "metadata": {},
   "outputs": [
    {
     "name": "stdout",
     "output_type": "stream",
     "text": [
      "[[33. 43.]\n",
      " [19. 11.]\n",
      " [40.  3.]\n",
      " [ 5. 15.]\n",
      " [37. 35.]\n",
      " [20. 35.]\n",
      " [ 1. 33.]\n",
      " [ 8. 33.]\n",
      " [22. 26.]\n",
      " [46. 18.]\n",
      " [ 2. 18.]\n",
      " [34. 40.]\n",
      " [41.  1.]\n",
      " [ 4. 38.]\n",
      " [36. 20.]\n",
      " [19. 22.]\n",
      " [30. 34.]\n",
      " [47. 21.]\n",
      " [25. 29.]\n",
      " [12. 16.]\n",
      " [48.  0.]\n",
      " [24.  0.]\n",
      " [32.  0.]\n",
      " [36.  0.]\n",
      " [40.  0.]\n",
      " [26.  0.]\n",
      " [47.  0.]\n",
      " [39.  0.]\n",
      " [45.  0.]\n",
      " [36.  0.]]\n"
     ]
    }
   ],
   "source": [
    "Y_pred = classifier.predict(X_test)\n",
    "# comparing predicted result with x_test result\n",
    "print(np.concatenate((Y_pred.reshape(len(Y_pred),1), Y_test.reshape(len(Y_test),1)),1))"
   ]
  },
  {
   "cell_type": "code",
   "execution_count": 50,
   "metadata": {},
   "outputs": [],
   "source": [
    "fixed_Destination_outlier_df = Destination_outlier_df.copy()\n",
    "fixed_Destination_outlier_df[\"Destination Region\"] = pd.Series(Y_pred).values"
   ]
  },
  {
   "cell_type": "code",
   "execution_count": 51,
   "metadata": {},
   "outputs": [
    {
     "data": {
      "text/html": [
       "<div>\n",
       "<style scoped>\n",
       "    .dataframe tbody tr th:only-of-type {\n",
       "        vertical-align: middle;\n",
       "    }\n",
       "\n",
       "    .dataframe tbody tr th {\n",
       "        vertical-align: top;\n",
       "    }\n",
       "\n",
       "    .dataframe thead th {\n",
       "        text-align: right;\n",
       "    }\n",
       "</style>\n",
       "<table border=\"1\" class=\"dataframe\">\n",
       "  <thead>\n",
       "    <tr style=\"text-align: right;\">\n",
       "      <th></th>\n",
       "      <th>Destination Latitude</th>\n",
       "      <th>Destination Longitude</th>\n",
       "      <th>Destination Region</th>\n",
       "    </tr>\n",
       "  </thead>\n",
       "  <tbody>\n",
       "    <tr>\n",
       "      <td>6445</td>\n",
       "      <td>-37.578957</td>\n",
       "      <td>145.371221</td>\n",
       "      <td>33.000000</td>\n",
       "    </tr>\n",
       "    <tr>\n",
       "      <td>8505</td>\n",
       "      <td>-38.539133</td>\n",
       "      <td>147.144486</td>\n",
       "      <td>19.000000</td>\n",
       "    </tr>\n",
       "    <tr>\n",
       "      <td>24901</td>\n",
       "      <td>-38.091929</td>\n",
       "      <td>148.330638</td>\n",
       "      <td>40.000000</td>\n",
       "    </tr>\n",
       "    <tr>\n",
       "      <td>26948</td>\n",
       "      <td>-36.548344</td>\n",
       "      <td>147.935812</td>\n",
       "      <td>5.000000</td>\n",
       "    </tr>\n",
       "    <tr>\n",
       "      <td>21415</td>\n",
       "      <td>-36.871746</td>\n",
       "      <td>145.619935</td>\n",
       "      <td>37.000000</td>\n",
       "    </tr>\n",
       "  </tbody>\n",
       "</table>\n",
       "</div>"
      ],
      "text/plain": [
       "       Destination Latitude  Destination Longitude  Destination Region\n",
       "6445             -37.578957             145.371221           33.000000\n",
       "8505             -38.539133             147.144486           19.000000\n",
       "24901            -38.091929             148.330638           40.000000\n",
       "26948            -36.548344             147.935812            5.000000\n",
       "21415            -36.871746             145.619935           37.000000"
      ]
     },
     "execution_count": 51,
     "metadata": {},
     "output_type": "execute_result"
    }
   ],
   "source": [
    "fixed_Destination_outlier_df.head()"
   ]
  },
  {
   "cell_type": "markdown",
   "metadata": {},
   "source": [
    "## Combining the fixed destination outliers with cleaned data"
   ]
  },
  {
   "cell_type": "code",
   "execution_count": 52,
   "metadata": {},
   "outputs": [],
   "source": [
    "test_df[[\"Destination Latitude\",\"Destination Longitude\",\"Destination Region\"]] = pd.concat([Destination_cleaned_df,fixed_Destination_outlier_df])"
   ]
  },
  {
   "cell_type": "code",
   "execution_count": 53,
   "metadata": {},
   "outputs": [],
   "source": [
    "test_df.drop(['Journey Distance'], axis=1, inplace=True)\n",
    "test_df.rename(columns={'New_Distance':'Journey Distance'}, inplace=True)"
   ]
  },
  {
   "cell_type": "markdown",
   "metadata": {},
   "source": [
    "# 11 -Travel Time fix\n",
    " Issues:\n",
    "  - Null Values\n",
    "  - delivery time is earlier to departure time\n",
    "  - Wrong given time"
   ]
  },
  {
   "cell_type": "code",
   "execution_count": 54,
   "metadata": {},
   "outputs": [],
   "source": [
    "timedf = test_df[['Id','Drone Type','Departure Time','Delivery Time','Journey Distance','Travel Time']]"
   ]
  },
  {
   "cell_type": "code",
   "execution_count": 55,
   "metadata": {},
   "outputs": [
    {
     "name": "stdout",
     "output_type": "stream",
     "text": [
      "There are 40 null vales present in 'Travel Time column'\n"
     ]
    }
   ],
   "source": [
    "print(\"There are {} null vales present in 'Travel Time column'\".format(len(timedf[timedf['Travel Time'].isnull()])))"
   ]
  },
  {
   "cell_type": "code",
   "execution_count": 56,
   "metadata": {},
   "outputs": [],
   "source": [
    "def cal_traveltime(data1,data2):\n",
    "    t1 = sum(i*j for i, j in zip(map(int, data1.split(':')), [60, 1, 1/60]))\n",
    "    t2 = sum(i*j for i, j in zip(map(int, data2.split(':')), [60, 1, 1/60]))\n",
    "    return round((t2-t1),2)\n",
    " \n",
    "\n",
    "\n",
    "timedf['diff_Del&Dep']=timedf.apply(lambda x: cal_traveltime(x['Departure Time'],x['Delivery Time']),axis=1)\n",
    "\n",
    "\n",
    "def find_valid(data1,data2):\n",
    "    #Adding a tolerance level of 0.01  & 0.02 \n",
    "    if (data1 == round(data2+0.01,2)) | (data1 == data2) | (data1 == round(data2+0.02,2)):\n",
    "        return data1\n",
    "\n",
    "    \n",
    "timedf['valid_traveltime']=timedf.apply(lambda x:find_valid(x['Travel Time'],x['diff_Del&Dep']),axis=1 )\n",
    "\n",
    "\n",
    "# #####\n",
    "\n",
    "timedf['time_diff']= pd.to_timedelta(timedf['Delivery Time'])-pd.to_timedelta(timedf['Departure Time'])\n",
    "timedf['time_diff'] = pd.to_timedelta(timedf['time_diff'].dt.seconds, unit='s')\n",
    "timedf['time'] = timedf['time_diff'] / np.timedelta64(1, 'h')\n",
    "\n",
    "# # # below step will find which time is less than 15hrs, this is a valid time\n",
    "timedf['valid_traveltime']=timedf.apply(lambda x:x['Travel Time'] if x['time']<15 else None,axis=1 )"
   ]
  },
  {
   "cell_type": "code",
   "execution_count": 57,
   "metadata": {},
   "outputs": [],
   "source": [
    "# 2. Finding invalid data\n",
    "\n",
    "valid_traveltime=timedf[timedf['valid_traveltime'].notnull()]\n",
    "invalid_traveltime=timedf[timedf['valid_traveltime'].isnull()]"
   ]
  },
  {
   "cell_type": "code",
   "execution_count": 58,
   "metadata": {},
   "outputs": [],
   "source": [
    "#Dropping all unwanted columns\n",
    "\n",
    "valid_traveltime.drop(['diff_Del&Dep','valid_traveltime','time_diff','time'], axis=1, inplace=True)\n",
    "invalid_traveltime.drop(['diff_Del&Dep','valid_traveltime','time_diff','time'], axis=1, inplace=True)"
   ]
  },
  {
   "cell_type": "code",
   "execution_count": 59,
   "metadata": {},
   "outputs": [],
   "source": [
    "\n",
    "# Forming 6 dataframe of different Drone type\n",
    "\n",
    "valid_traveltime_drone1=valid_traveltime[valid_traveltime['Drone Type']==1.0]\n",
    "invalid_traveltime_drone1=invalid_traveltime[invalid_traveltime['Drone Type']==1.0]\n",
    "\n",
    "\n",
    "valid_traveltime_drone2=valid_traveltime[valid_traveltime['Drone Type']==2.0]\n",
    "invalid_traveltime_drone2=invalid_traveltime[invalid_traveltime['Drone Type']==2.0]\n",
    "\n",
    "\n",
    "valid_traveltime_drone3=valid_traveltime[valid_traveltime['Drone Type']==3.0]\n",
    "invalid_traveltime_drone3=invalid_traveltime[invalid_traveltime['Drone Type']==3.0]\n",
    "\n",
    "\n",
    "# At this step, data is cleaned with outliers, which is required for next steps"
   ]
  },
  {
   "cell_type": "markdown",
   "metadata": {},
   "source": [
    "Below method explains how travel time is calculated by solving simultaneous equations\n",
    "\n",
    "\n",
    "W.K.T\n",
    "x ->speed of takeoff\n",
    "\n",
    "y -> speed of landing\n",
    "\n",
    "z -> speed of onroute\n",
    "\n",
    "t -> time taken\n",
    "\n",
    "d -> distance travelled\n",
    "\n",
    "\n",
    "\n",
    "\n",
    "5x+5y= $\\beta$ ------> Treat this as beta. Beta here conveys information on= Distance travelled during takeoff and landing\n",
    "\n",
    "\n",
    "Then main equation becomes, beta + on route distance = journey distance\n",
    "on route distance = time taken (t-10) * speed (z)\n",
    "\n",
    "\n",
    "\n",
    "$\\beta$+(t-10)z=d -----------> (main eqn)"
   ]
  },
  {
   "cell_type": "markdown",
   "metadata": {},
   "source": [
    "let actual time t=393.21 and travelled distance d=386.712 then main eqn becomes:\n",
    "\n",
    "\n",
    "* $\\beta$+(396.91-10)z=390.409 -----------> (eqn-1)\n",
    "\n",
    "let t=176.72 and d=390.409 then main eqn becomes:\n",
    "\n",
    "\n",
    "\n",
    "* $\\beta$+(176.72-10)z=170.223 -----------> (eqn-2)\n",
    "Solving eq-1 and eq-2: we get\n",
    "\n",
    "z(speed of drone type 1) = 60 km/hr\n",
    "\n",
    "beta = 210.36"
   ]
  },
  {
   "cell_type": "code",
   "execution_count": 60,
   "metadata": {},
   "outputs": [
    {
     "name": "stdout",
     "output_type": "stream",
     "text": [
      "Speed of Drone type-1=60.0, beta1=210.36\n",
      "Speed of Drone type-2=65.0, beta2=220.18\n",
      "Speed of Drone type-3=72.01, beta3=233.44\n"
     ]
    }
   ],
   "source": [
    "# a common function to calcualte z and beta for different drone types \n",
    "# beta + (t-10)/60 = d\n",
    "def linear_eqn(t1,t2,d1,d2):\n",
    "#     d1,t1,d2,t2\n",
    "    t1 = (t1 - 10) / 60\n",
    "    t2 = (t2 - 10) / 60\n",
    "    \n",
    "    \n",
    "    A = np.array([[1/60,t1], [1/60, t2]])\n",
    "    B = np.array([d1, d2])\n",
    "    X = np.linalg.solve(A,B)\n",
    "    \n",
    "    \n",
    "    beta = X[0]\n",
    "    z = X[1]\n",
    "    #print(beta)\n",
    "    #print(z)\n",
    "    return round(beta,2), round(z,2)\n",
    "\n",
    "#beta1,speed1 = linear_eqn(348.893000,355.390000,297.451000,303.950000)\n",
    "#beta2,speed2 = linear_eqn(148.845000,144.010000,143.882000,139.430000)\n",
    "#beta3,speed3 = linear_eqn(378.269000,321.960000,298.795000,255.730000)\n",
    "\n",
    "beta1,speed1=linear_eqn(396.91,176.72,390.409,170.223)\n",
    "beta2,speed2=linear_eqn(144.01,122.85,148.845,125.922)\n",
    "beta3,speed3=linear_eqn(186.23,255.73,215.387,298.795)\n",
    "\n",
    "print(\"Speed of Drone type-1={}, beta1={}\".format(speed1,beta1))\n",
    "print(\"Speed of Drone type-2={}, beta2={}\".format(speed2,beta2))\n",
    "print(\"Speed of Drone type-3={}, beta3={}\".format(speed3,beta3))"
   ]
  },
  {
   "cell_type": "code",
   "execution_count": 61,
   "metadata": {},
   "outputs": [],
   "source": [
    "def calculate_time(dist,beta,speed):\n",
    "    time_taken=(((dist*60)-(beta))/speed)+10\n",
    "    return round(time_taken,2)"
   ]
  },
  {
   "cell_type": "markdown",
   "metadata": {},
   "source": [
    "## Concatenatng valid and Invalid data of drone 1 to verify the Drone type"
   ]
  },
  {
   "cell_type": "markdown",
   "metadata": {},
   "source": [
    "## 11-1 Identifying wrong Travel time\n",
    " Here, In drone type 1, there are outliers, where mismatch is present.\n",
    " Expected result : given travel time of drone type 1 should be equal to calculated timetaken_drone1\n",
    " Actual result : given travel time of drone type 1 is not equal to calculated timetaken_drone1, instead equal to   timetaken_drone2 for below highlighted scenario\n",
    "## Solution:\n",
    "\n",
    "   - The time taken by drone 2 is the new travel time\n",
    "   - Drone type will be 2, since drone-type 2 was approximate to given travel time\n"
   ]
  },
  {
   "cell_type": "markdown",
   "metadata": {},
   "source": [
    "## Drone Type : 1"
   ]
  },
  {
   "cell_type": "code",
   "execution_count": 62,
   "metadata": {},
   "outputs": [],
   "source": [
    "new_drone1=pd.concat([valid_traveltime_drone1,invalid_traveltime_drone1])\n",
    "new_drone1['TimeTaken_drone1']=new_drone1.apply(lambda x: calculate_time(x['Journey Distance'],\\\n",
    "                                                                                     beta1,speed1),axis=1)\n",
    "\n",
    "new_drone1['TimeTaken_drone2']=new_drone1.apply(lambda x: calculate_time(x['Journey Distance'],\\\n",
    "                                                                             beta2,speed2),axis=1)\n",
    "new_drone1['TimeTaken_drone3']=new_drone1.apply(lambda x: calculate_time(x['Journey Distance'],\\\n",
    "                                                                             beta3,speed3),axis=1)"
   ]
  },
  {
   "cell_type": "code",
   "execution_count": 63,
   "metadata": {},
   "outputs": [],
   "source": [
    "#Below method cleans the invalid drone type\n",
    "\n",
    "valid_drone1 = new_drone1.copy()\n",
    "\n",
    "def correct_dronetype(traveltime,timetaken_drone1,timetaken_drone2,timetaken_drone3):\n",
    "    if (traveltime == timetaken_drone1) | (traveltime == round((timetaken_drone1+0.01),2))|(traveltime == round((timetaken_drone1-0.01),2)):\n",
    "        return 1.0\n",
    "    elif (traveltime == timetaken_drone2) | (traveltime == round((timetaken_drone2+0.01),2))|(traveltime == round((timetaken_drone2-0.01),2)):\n",
    "        return 2.0\n",
    "    else:\n",
    "        return 3.0\n",
    "    \n",
    "sample_df1=valid_drone1[valid_drone1['Travel Time'] < valid_drone1['TimeTaken_drone1']]\n",
    "sample_df1['new']=sample_df1.apply(lambda x: correct_dronetype(x['Travel Time'],\\\n",
    "                                                               x['TimeTaken_drone1'],\\\n",
    "                                                               x['TimeTaken_drone2'],x['TimeTaken_drone3']),axis=1)\n",
    "sample_df1.drop(['Drone Type','TimeTaken_drone1'], axis=1, inplace=True)\n",
    "sample_df1.rename(columns={'Travel Time':'TimeTaken_drone1','new':'Drone Type'}, inplace=True)    \n",
    "\n",
    "\n",
    "valid_drone1.update(sample_df1)\n",
    "valid_drone1.drop(['Travel Time','TimeTaken_drone2','TimeTaken_drone3'], axis=1, inplace=True)\n",
    "valid_drone1.rename(columns={'TimeTaken_drone1':'Travel Time'}, inplace=True)"
   ]
  },
  {
   "cell_type": "markdown",
   "metadata": {},
   "source": [
    "## 11-2 Drone Type 2:"
   ]
  },
  {
   "cell_type": "code",
   "execution_count": 64,
   "metadata": {},
   "outputs": [],
   "source": [
    "new_drone2=pd.concat([valid_traveltime_drone2,invalid_traveltime_drone2])\n",
    "new_drone2['TimeTaken_drone1']=new_drone2.apply(lambda x: calculate_time(x['Journey Distance'],\\\n",
    "                                                                                     beta1,speed1),axis=1)\n",
    "\n",
    "new_drone2['TimeTaken_drone2']=new_drone2.apply(lambda x: calculate_time(x['Journey Distance'],\\\n",
    "                                                                             beta2,speed2),axis=1)\n",
    "new_drone2['TimeTaken_drone3']=new_drone2.apply(lambda x: calculate_time(x['Journey Distance'],\\\n",
    "                                                                             beta3,speed3),axis=1)"
   ]
  },
  {
   "cell_type": "code",
   "execution_count": 65,
   "metadata": {},
   "outputs": [],
   "source": [
    "valid_drone2 = new_drone2.copy()\n",
    "\n",
    "sample_df2=valid_drone2[valid_drone2['Travel Time'] < valid_drone2['TimeTaken_drone2']]\n",
    "\n",
    "sample_df2['new']=sample_df2.apply(lambda x: correct_dronetype(x['Travel Time'],\\\n",
    "                                                               x['TimeTaken_drone1'],\\\n",
    "                                                               x['TimeTaken_drone2'],x['TimeTaken_drone3']),axis=1)\n",
    "sample_df2.drop(['Drone Type','TimeTaken_drone2'], axis=1, inplace=True)\n",
    "sample_df2.rename(columns={'Travel Time':'TimeTaken_drone2','new':'Drone Type'}, inplace=True)"
   ]
  },
  {
   "cell_type": "code",
   "execution_count": 66,
   "metadata": {},
   "outputs": [],
   "source": [
    "valid_drone2.update(sample_df2)\n",
    "valid_drone2.drop(['Travel Time','TimeTaken_drone1','TimeTaken_drone3'], axis=1, inplace=True)\n",
    "valid_drone2.rename(columns={'TimeTaken_drone2':'Travel Time'}, inplace=True)"
   ]
  },
  {
   "cell_type": "markdown",
   "metadata": {},
   "source": [
    "## 11-3 Drone Type 3:"
   ]
  },
  {
   "cell_type": "code",
   "execution_count": 67,
   "metadata": {},
   "outputs": [],
   "source": [
    "new_drone3=pd.concat([valid_traveltime_drone3,invalid_traveltime_drone3])\n",
    "new_drone3['TimeTaken_drone1']=new_drone3.apply(lambda x: calculate_time(x['Journey Distance'],\\\n",
    "                                                                                     beta1,speed1),axis=1)\n",
    "\n",
    "new_drone3['TimeTaken_drone2']=new_drone3.apply(lambda x: calculate_time(x['Journey Distance'],\\\n",
    "                                                                             beta2,speed2),axis=1)\n",
    "new_drone3['TimeTaken_drone3']=new_drone3.apply(lambda x: calculate_time(x['Journey Distance'],\\\n",
    "                                                                             beta3,speed3),axis=1)"
   ]
  },
  {
   "cell_type": "code",
   "execution_count": 68,
   "metadata": {},
   "outputs": [],
   "source": [
    "new_drone3.drop(['Travel Time','TimeTaken_drone1','TimeTaken_drone2'], axis=1, inplace=True)\n",
    "new_drone3.rename(columns={'TimeTaken_drone3':'Travel Time'}, inplace=True)\n",
    "\n",
    "fixed_travel_time_df = pd.concat([valid_drone1,valid_drone2,new_drone3])"
   ]
  },
  {
   "cell_type": "markdown",
   "metadata": {},
   "source": [
    "## Updating the df after fixing the Travel time, moving forward new_test_df is the main df"
   ]
  },
  {
   "cell_type": "code",
   "execution_count": 69,
   "metadata": {},
   "outputs": [],
   "source": [
    "new_test_df = test_df.copy()\n",
    "\n",
    "new_test_df.update(fixed_travel_time_df)"
   ]
  },
  {
   "cell_type": "markdown",
   "metadata": {},
   "source": [
    "----------------"
   ]
  },
  {
   "cell_type": "markdown",
   "metadata": {},
   "source": [
    "## 11-4 Fixing Drone Type Null\n",
    "\n",
    "## Below step confirms total 10 nulls are present for Drone Type\n",
    "\n",
    "## Approach:\n",
    "\n",
    "   - Find the 3 travel time, for respective drone type\n",
    "   - Identify which given travel time is equal to calculated drone time\n",
    "   - fill the Drone type\n"
   ]
  },
  {
   "cell_type": "code",
   "execution_count": 70,
   "metadata": {},
   "outputs": [],
   "source": [
    "sample_nulldrone_df=new_test_df[new_test_df['Drone Type'].isnull()]\n",
    "\n",
    "\n",
    "sample_nulldrone_df['TimeTaken_drone1']=test_df.apply(lambda x: calculate_time(x['Journey Distance'],\\\n",
    "                                                                               beta1,speed1),axis=1)\n",
    "sample_nulldrone_df['TimeTaken_drone2']=test_df.apply(lambda x: calculate_time(x['Journey Distance'],\\\n",
    "                                                                               beta2,speed2),axis=1)\n",
    "sample_nulldrone_df['TimeTaken_drone3']=test_df.apply(lambda x: calculate_time(x['Journey Distance'],\\\n",
    "                                                                               beta3,speed3),axis=1)"
   ]
  },
  {
   "cell_type": "code",
   "execution_count": 71,
   "metadata": {},
   "outputs": [
    {
     "data": {
      "text/html": [
       "<div>\n",
       "<style scoped>\n",
       "    .dataframe tbody tr th:only-of-type {\n",
       "        vertical-align: middle;\n",
       "    }\n",
       "\n",
       "    .dataframe tbody tr th {\n",
       "        vertical-align: top;\n",
       "    }\n",
       "\n",
       "    .dataframe thead th {\n",
       "        text-align: right;\n",
       "    }\n",
       "</style>\n",
       "<table border=\"1\" class=\"dataframe\">\n",
       "  <thead>\n",
       "    <tr style=\"text-align: right;\">\n",
       "      <th></th>\n",
       "      <th>Id</th>\n",
       "      <th>Drone Type</th>\n",
       "      <th>Post Type</th>\n",
       "      <th>Package Weight</th>\n",
       "      <th>Origin Region</th>\n",
       "      <th>Destination Region</th>\n",
       "      <th>Origin Latitude</th>\n",
       "      <th>Origin Longitude</th>\n",
       "      <th>Destination Latitude</th>\n",
       "      <th>Destination Longitude</th>\n",
       "      <th>Departure Date</th>\n",
       "      <th>Departure Time</th>\n",
       "      <th>Travel Time</th>\n",
       "      <th>Delivery Time</th>\n",
       "      <th>Delivery Fare</th>\n",
       "      <th>Journey Distance</th>\n",
       "      <th>TimeTaken_drone1</th>\n",
       "      <th>TimeTaken_drone2</th>\n",
       "      <th>TimeTaken_drone3</th>\n",
       "    </tr>\n",
       "  </thead>\n",
       "  <tbody>\n",
       "    <tr>\n",
       "      <td>10256</td>\n",
       "      <td>ID1689462474</td>\n",
       "      <td>nan</td>\n",
       "      <td>0.000000</td>\n",
       "      <td>38.730000</td>\n",
       "      <td>1.000000</td>\n",
       "      <td>32.000000</td>\n",
       "      <td>-38.000643</td>\n",
       "      <td>143.012318</td>\n",
       "      <td>-36.580651</td>\n",
       "      <td>144.346774</td>\n",
       "      <td>2018-07-04</td>\n",
       "      <td>21:50:45</td>\n",
       "      <td>203.860000</td>\n",
       "      <td>1:14:36</td>\n",
       "      <td>129.510000</td>\n",
       "      <td>197.359000</td>\n",
       "      <td>203.850000</td>\n",
       "      <td>188.790000</td>\n",
       "      <td>171.200000</td>\n",
       "    </tr>\n",
       "    <tr>\n",
       "      <td>10257</td>\n",
       "      <td>ID5511472926</td>\n",
       "      <td>nan</td>\n",
       "      <td>1.000000</td>\n",
       "      <td>7.014000</td>\n",
       "      <td>30.000000</td>\n",
       "      <td>8.000000</td>\n",
       "      <td>-38.812843</td>\n",
       "      <td>145.772320</td>\n",
       "      <td>-38.748193</td>\n",
       "      <td>147.780859</td>\n",
       "      <td>2018-01-01</td>\n",
       "      <td>09:00:16</td>\n",
       "      <td>180.940000</td>\n",
       "      <td>12:01:12</td>\n",
       "      <td>125.030000</td>\n",
       "      <td>174.441000</td>\n",
       "      <td>180.940000</td>\n",
       "      <td>167.640000</td>\n",
       "      <td>152.110000</td>\n",
       "    </tr>\n",
       "    <tr>\n",
       "      <td>11948</td>\n",
       "      <td>ID1552068389</td>\n",
       "      <td>nan</td>\n",
       "      <td>0.000000</td>\n",
       "      <td>25.001000</td>\n",
       "      <td>47.000000</td>\n",
       "      <td>35.000000</td>\n",
       "      <td>-38.993994</td>\n",
       "      <td>146.840822</td>\n",
       "      <td>-36.520589</td>\n",
       "      <td>146.834872</td>\n",
       "      <td>2018-04-08</td>\n",
       "      <td>04:27:53</td>\n",
       "      <td>260.770000</td>\n",
       "      <td>8:48:39</td>\n",
       "      <td>168.750000</td>\n",
       "      <td>275.333000</td>\n",
       "      <td>281.830000</td>\n",
       "      <td>260.770000</td>\n",
       "      <td>236.170000</td>\n",
       "    </tr>\n",
       "    <tr>\n",
       "      <td>16386</td>\n",
       "      <td>ID1290005525</td>\n",
       "      <td>nan</td>\n",
       "      <td>0.000000</td>\n",
       "      <td>22.509000</td>\n",
       "      <td>22.000000</td>\n",
       "      <td>26.000000</td>\n",
       "      <td>-38.620436</td>\n",
       "      <td>146.014703</td>\n",
       "      <td>-37.674191</td>\n",
       "      <td>146.920840</td>\n",
       "      <td>2018-07-11</td>\n",
       "      <td>23:37:55</td>\n",
       "      <td>138.360000</td>\n",
       "      <td>1:56:16</td>\n",
       "      <td>133.610000</td>\n",
       "      <td>131.860000</td>\n",
       "      <td>138.350000</td>\n",
       "      <td>128.330000</td>\n",
       "      <td>116.630000</td>\n",
       "    </tr>\n",
       "    <tr>\n",
       "      <td>16390</td>\n",
       "      <td>ID1428962469</td>\n",
       "      <td>nan</td>\n",
       "      <td>0.000000</td>\n",
       "      <td>39.640000</td>\n",
       "      <td>48.000000</td>\n",
       "      <td>17.000000</td>\n",
       "      <td>-37.032702</td>\n",
       "      <td>148.407498</td>\n",
       "      <td>-37.108120</td>\n",
       "      <td>144.216866</td>\n",
       "      <td>2018-02-10</td>\n",
       "      <td>17:35:12</td>\n",
       "      <td>350.250000</td>\n",
       "      <td>23:25:27</td>\n",
       "      <td>164.860000</td>\n",
       "      <td>372.274000</td>\n",
       "      <td>378.770000</td>\n",
       "      <td>350.250000</td>\n",
       "      <td>316.940000</td>\n",
       "    </tr>\n",
       "  </tbody>\n",
       "</table>\n",
       "</div>"
      ],
      "text/plain": [
       "                 Id  Drone Type  Post Type  Package Weight  Origin Region  \\\n",
       "10256  ID1689462474         nan   0.000000       38.730000       1.000000   \n",
       "10257  ID5511472926         nan   1.000000        7.014000      30.000000   \n",
       "11948  ID1552068389         nan   0.000000       25.001000      47.000000   \n",
       "16386  ID1290005525         nan   0.000000       22.509000      22.000000   \n",
       "16390  ID1428962469         nan   0.000000       39.640000      48.000000   \n",
       "\n",
       "       Destination Region  Origin Latitude  Origin Longitude  \\\n",
       "10256           32.000000       -38.000643        143.012318   \n",
       "10257            8.000000       -38.812843        145.772320   \n",
       "11948           35.000000       -38.993994        146.840822   \n",
       "16386           26.000000       -38.620436        146.014703   \n",
       "16390           17.000000       -37.032702        148.407498   \n",
       "\n",
       "       Destination Latitude  Destination Longitude Departure Date  \\\n",
       "10256            -36.580651             144.346774     2018-07-04   \n",
       "10257            -38.748193             147.780859     2018-01-01   \n",
       "11948            -36.520589             146.834872     2018-04-08   \n",
       "16386            -37.674191             146.920840     2018-07-11   \n",
       "16390            -37.108120             144.216866     2018-02-10   \n",
       "\n",
       "      Departure Time  Travel Time Delivery Time  Delivery Fare  \\\n",
       "10256       21:50:45   203.860000       1:14:36     129.510000   \n",
       "10257       09:00:16   180.940000      12:01:12     125.030000   \n",
       "11948       04:27:53   260.770000       8:48:39     168.750000   \n",
       "16386       23:37:55   138.360000       1:56:16     133.610000   \n",
       "16390       17:35:12   350.250000      23:25:27     164.860000   \n",
       "\n",
       "       Journey Distance  TimeTaken_drone1  TimeTaken_drone2  TimeTaken_drone3  \n",
       "10256        197.359000        203.850000        188.790000        171.200000  \n",
       "10257        174.441000        180.940000        167.640000        152.110000  \n",
       "11948        275.333000        281.830000        260.770000        236.170000  \n",
       "16386        131.860000        138.350000        128.330000        116.630000  \n",
       "16390        372.274000        378.770000        350.250000        316.940000  "
      ]
     },
     "execution_count": 71,
     "metadata": {},
     "output_type": "execute_result"
    }
   ],
   "source": [
    "sample_nulldrone_df.head()"
   ]
  },
  {
   "cell_type": "code",
   "execution_count": 72,
   "metadata": {},
   "outputs": [],
   "source": [
    "sample_nulldrone_df['new']=sample_nulldrone_df.apply(lambda x: correct_dronetype(x['Travel Time'],\\\n",
    "                                                               x['TimeTaken_drone1'],\\\n",
    "                                                               x['TimeTaken_drone2'],x['TimeTaken_drone3']),axis=1)\n",
    "sample_nulldrone_df.drop(['Drone Type','TimeTaken_drone1','TimeTaken_drone2','TimeTaken_drone3'], axis=1, inplace=True)\n",
    "sample_nulldrone_df.rename(columns={'new':'Drone Type'}, inplace=True)"
   ]
  },
  {
   "cell_type": "code",
   "execution_count": 73,
   "metadata": {},
   "outputs": [],
   "source": [
    "cols = list(sample_nulldrone_df.columns.values)\n",
    "\n",
    "sample_nulldrone_df = sample_nulldrone_df[['Id','Drone Type','Post Type','Package Weight','Origin Region',\\\n",
    " 'Destination Region',\n",
    " 'Origin Latitude',\n",
    " 'Origin Longitude',\n",
    " 'Destination Latitude',\n",
    " 'Destination Longitude',\n",
    " 'Departure Date',\n",
    " 'Departure Time',\n",
    " 'Travel Time',\n",
    " 'Delivery Time',\n",
    " 'Delivery Fare',\n",
    " 'Journey Distance',\n",
    " ]]"
   ]
  },
  {
   "cell_type": "code",
   "execution_count": 74,
   "metadata": {},
   "outputs": [
    {
     "data": {
      "text/plain": [
       "Id                        0\n",
       "Drone Type                0\n",
       "Post Type                 0\n",
       "Package Weight            0\n",
       "Origin Region             0\n",
       "Destination Region        0\n",
       "Origin Latitude           0\n",
       "Origin Longitude          0\n",
       "Destination Latitude      0\n",
       "Destination Longitude     0\n",
       "Departure Date            0\n",
       "Departure Time            0\n",
       "Travel Time               0\n",
       "Delivery Time             0\n",
       "Delivery Fare            30\n",
       "Journey Distance          0\n",
       "dtype: int64"
      ]
     },
     "execution_count": 74,
     "metadata": {},
     "output_type": "execute_result"
    }
   ],
   "source": [
    "new_test_df.update(sample_nulldrone_df)\n",
    "new_test_df.isnull().sum()"
   ]
  },
  {
   "cell_type": "markdown",
   "metadata": {},
   "source": [
    "-------------"
   ]
  },
  {
   "cell_type": "markdown",
   "metadata": {},
   "source": [
    "## 12 -Calculating the new Delivery Time ('Delivery time' = Departure time + Travel Time)"
   ]
  },
  {
   "cell_type": "code",
   "execution_count": 75,
   "metadata": {},
   "outputs": [],
   "source": [
    "def new_Delivery_Time(data1, data2):\n",
    "    departure_time = pd.Timedelta(data1)\n",
    "    travel_time = pd.Timedelta(data2,unit='min')\n",
    "    answer = str(departure_time + travel_time)\n",
    "    answer =(answer.split('days'))[1]\n",
    "    \n",
    "    h, m, s = [answer.split()[0].split(':')[0],\\\n",
    "                answer.split()[0].split(':')[1],\\\n",
    "                str(round(float(answer.split()[0].split(':')[-1])))]\n",
    "    \n",
    "    result = ( h + ':' + m + ':' + s)\n",
    "#     print(result)\n",
    "    return result"
   ]
  },
  {
   "cell_type": "code",
   "execution_count": 76,
   "metadata": {},
   "outputs": [],
   "source": [
    "new_test_df['New_DeliveryTime']=new_test_df.apply(lambda x: new_Delivery_Time(x['Departure Time'],x['Travel Time']),axis=1)"
   ]
  },
  {
   "cell_type": "code",
   "execution_count": 77,
   "metadata": {},
   "outputs": [
    {
     "data": {
      "text/html": [
       "<div>\n",
       "<style scoped>\n",
       "    .dataframe tbody tr th:only-of-type {\n",
       "        vertical-align: middle;\n",
       "    }\n",
       "\n",
       "    .dataframe tbody tr th {\n",
       "        vertical-align: top;\n",
       "    }\n",
       "\n",
       "    .dataframe thead th {\n",
       "        text-align: right;\n",
       "    }\n",
       "</style>\n",
       "<table border=\"1\" class=\"dataframe\">\n",
       "  <thead>\n",
       "    <tr style=\"text-align: right;\">\n",
       "      <th></th>\n",
       "      <th>Id</th>\n",
       "      <th>Drone Type</th>\n",
       "      <th>Post Type</th>\n",
       "      <th>Package Weight</th>\n",
       "      <th>Origin Region</th>\n",
       "      <th>Destination Region</th>\n",
       "      <th>Origin Latitude</th>\n",
       "      <th>Origin Longitude</th>\n",
       "      <th>Destination Latitude</th>\n",
       "      <th>Destination Longitude</th>\n",
       "      <th>Departure Date</th>\n",
       "      <th>Departure Time</th>\n",
       "      <th>Travel Time</th>\n",
       "      <th>Delivery Time</th>\n",
       "      <th>Delivery Fare</th>\n",
       "      <th>Journey Distance</th>\n",
       "      <th>New_DeliveryTime</th>\n",
       "    </tr>\n",
       "  </thead>\n",
       "  <tbody>\n",
       "    <tr>\n",
       "      <td>0</td>\n",
       "      <td>ID1155220853</td>\n",
       "      <td>3.000000</td>\n",
       "      <td>0.000000</td>\n",
       "      <td>29.246000</td>\n",
       "      <td>9.000000</td>\n",
       "      <td>8.000000</td>\n",
       "      <td>-37.543231</td>\n",
       "      <td>146.694631</td>\n",
       "      <td>-38.688709</td>\n",
       "      <td>147.836706</td>\n",
       "      <td>2018-07-07</td>\n",
       "      <td>03:32:59</td>\n",
       "      <td>141.790000</td>\n",
       "      <td>5:54:45</td>\n",
       "      <td>201.760000</td>\n",
       "      <td>162.058000</td>\n",
       "      <td>05:54:46</td>\n",
       "    </tr>\n",
       "    <tr>\n",
       "      <td>1</td>\n",
       "      <td>ID1934229843</td>\n",
       "      <td>3.000000</td>\n",
       "      <td>0.000000</td>\n",
       "      <td>15.151000</td>\n",
       "      <td>23.000000</td>\n",
       "      <td>13.000000</td>\n",
       "      <td>-38.719744</td>\n",
       "      <td>143.924901</td>\n",
       "      <td>-36.816430</td>\n",
       "      <td>147.486725</td>\n",
       "      <td>2018-02-25</td>\n",
       "      <td>17:46:42</td>\n",
       "      <td>321.940000</td>\n",
       "      <td>23:08:39</td>\n",
       "      <td>202.880000</td>\n",
       "      <td>378.269000</td>\n",
       "      <td>23:08:38</td>\n",
       "    </tr>\n",
       "    <tr>\n",
       "      <td>2</td>\n",
       "      <td>ID1516274046</td>\n",
       "      <td>3.000000</td>\n",
       "      <td>0.000000</td>\n",
       "      <td>24.750000</td>\n",
       "      <td>44.000000</td>\n",
       "      <td>45.000000</td>\n",
       "      <td>-38.181825</td>\n",
       "      <td>144.361734</td>\n",
       "      <td>-38.983453</td>\n",
       "      <td>144.674366</td>\n",
       "      <td>2018-06-15</td>\n",
       "      <td>13:34:05</td>\n",
       "      <td>84.490000</td>\n",
       "      <td>14:58:33</td>\n",
       "      <td>183.650000</td>\n",
       "      <td>93.289000</td>\n",
       "      <td>14:58:34</td>\n",
       "    </tr>\n",
       "    <tr>\n",
       "      <td>3</td>\n",
       "      <td>ID1556088517</td>\n",
       "      <td>3.000000</td>\n",
       "      <td>0.000000</td>\n",
       "      <td>30.177000</td>\n",
       "      <td>32.000000</td>\n",
       "      <td>43.000000</td>\n",
       "      <td>-36.533097</td>\n",
       "      <td>144.367291</td>\n",
       "      <td>-37.965204</td>\n",
       "      <td>147.219601</td>\n",
       "      <td>2018-03-23</td>\n",
       "      <td>13:43:56</td>\n",
       "      <td>255.720000</td>\n",
       "      <td>17:59:39</td>\n",
       "      <td>193.090000</td>\n",
       "      <td>298.795000</td>\n",
       "      <td>17:59:39</td>\n",
       "    </tr>\n",
       "    <tr>\n",
       "      <td>4</td>\n",
       "      <td>ID1767368003</td>\n",
       "      <td>1.000000</td>\n",
       "      <td>0.000000</td>\n",
       "      <td>39.495000</td>\n",
       "      <td>40.000000</td>\n",
       "      <td>11.000000</td>\n",
       "      <td>-37.952008</td>\n",
       "      <td>148.426079</td>\n",
       "      <td>-37.629604</td>\n",
       "      <td>144.048613</td>\n",
       "      <td>2018-07-21</td>\n",
       "      <td>19:59:06</td>\n",
       "      <td>393.210000</td>\n",
       "      <td>2:32:18</td>\n",
       "      <td>132.260000</td>\n",
       "      <td>386.712000</td>\n",
       "      <td>02:32:19</td>\n",
       "    </tr>\n",
       "  </tbody>\n",
       "</table>\n",
       "</div>"
      ],
      "text/plain": [
       "             Id  Drone Type  Post Type  Package Weight  Origin Region  \\\n",
       "0  ID1155220853    3.000000   0.000000       29.246000       9.000000   \n",
       "1  ID1934229843    3.000000   0.000000       15.151000      23.000000   \n",
       "2  ID1516274046    3.000000   0.000000       24.750000      44.000000   \n",
       "3  ID1556088517    3.000000   0.000000       30.177000      32.000000   \n",
       "4  ID1767368003    1.000000   0.000000       39.495000      40.000000   \n",
       "\n",
       "   Destination Region  Origin Latitude  Origin Longitude  \\\n",
       "0            8.000000       -37.543231        146.694631   \n",
       "1           13.000000       -38.719744        143.924901   \n",
       "2           45.000000       -38.181825        144.361734   \n",
       "3           43.000000       -36.533097        144.367291   \n",
       "4           11.000000       -37.952008        148.426079   \n",
       "\n",
       "   Destination Latitude  Destination Longitude Departure Date Departure Time  \\\n",
       "0            -38.688709             147.836706     2018-07-07       03:32:59   \n",
       "1            -36.816430             147.486725     2018-02-25       17:46:42   \n",
       "2            -38.983453             144.674366     2018-06-15       13:34:05   \n",
       "3            -37.965204             147.219601     2018-03-23       13:43:56   \n",
       "4            -37.629604             144.048613     2018-07-21       19:59:06   \n",
       "\n",
       "   Travel Time Delivery Time  Delivery Fare  Journey Distance New_DeliveryTime  \n",
       "0   141.790000       5:54:45     201.760000        162.058000         05:54:46  \n",
       "1   321.940000      23:08:39     202.880000        378.269000         23:08:38  \n",
       "2    84.490000      14:58:33     183.650000         93.289000         14:58:34  \n",
       "3   255.720000      17:59:39     193.090000        298.795000         17:59:39  \n",
       "4   393.210000       2:32:18     132.260000        386.712000         02:32:19  "
      ]
     },
     "execution_count": 77,
     "metadata": {},
     "output_type": "execute_result"
    }
   ],
   "source": [
    "new_test_df.head()"
   ]
  },
  {
   "cell_type": "markdown",
   "metadata": {},
   "source": [
    "---------"
   ]
  },
  {
   "cell_type": "markdown",
   "metadata": {},
   "source": [
    "## 12-1 According to the problem statement:\n",
    " For Departure Time, we know that the delivery company has a specific rule to define morning (6:00:00 - 11:59:59), afternoon (12:00:00 - 20:59:59), and night (21:00 - 5:59:59)\n",
    " Hence, seperating the departure time data into the above time format"
   ]
  },
  {
   "cell_type": "code",
   "execution_count": 78,
   "metadata": {},
   "outputs": [],
   "source": [
    "def OneHotEncoding_depTime(data1):\n",
    "    dep = pd.to_timedelta(data1)\n",
    "    a1 = pd.to_timedelta(\"6:00:00\")\n",
    "    a2 = pd.to_timedelta(\"11:59:59\")\n",
    "    a3 = pd.to_timedelta(\"12:00:00\")\n",
    "    a4 = pd.to_timedelta(\"20:59:59\")\n",
    "    a5 = pd.to_timedelta(\"21:00:00\")\n",
    "    a_5 = pd.to_timedelta(\"23:59:59\")\n",
    "    a_6 = pd.to_timedelta(\"0:00:00\")\n",
    "    a6 = pd.to_timedelta(\"5:59:59\")\n",
    "    \n",
    "    if (dep >= a1) and (dep <= a2):\n",
    "        return 0\n",
    "    elif(dep >= a3) and (dep <= a4):\n",
    "        return 1\n",
    "    if (((dep >= a5) and (dep <= a_5)) | ((dep >= a_6) and (dep <= a6))):\n",
    "        return 2\n",
    "    else:\n",
    "        return None"
   ]
  },
  {
   "cell_type": "code",
   "execution_count": 79,
   "metadata": {},
   "outputs": [],
   "source": [
    "new_test_df[\"Dpt_Interval\"]=new_test_df.apply(lambda x: OneHotEncoding_depTime(x['Departure Time']),axis=1)"
   ]
  },
  {
   "cell_type": "code",
   "execution_count": 80,
   "metadata": {},
   "outputs": [
    {
     "data": {
      "text/plain": [
       "array([2, 1, 0], dtype=int64)"
      ]
     },
     "execution_count": 80,
     "metadata": {},
     "output_type": "execute_result"
    }
   ],
   "source": [
    "new_test_df[\"Dpt_Interval\"].unique()"
   ]
  },
  {
   "cell_type": "markdown",
   "metadata": {},
   "source": [
    "----------"
   ]
  },
  {
   "cell_type": "markdown",
   "metadata": {},
   "source": [
    "## 13- EDA on Delivery Fare"
   ]
  },
  {
   "cell_type": "code",
   "execution_count": 81,
   "metadata": {},
   "outputs": [
    {
     "data": {
      "text/plain": [
       "<seaborn.axisgrid.PairGrid at 0x1c0e1258088>"
      ]
     },
     "execution_count": 81,
     "metadata": {},
     "output_type": "execute_result"
    },
    {
     "data": {
      "image/png": "[encoded data removed]",
      "text/plain": [
       "<Figure size 1260x180 with 7 Axes>"
      ]
     },
     "metadata": {
      "needs_background": "light"
     },
     "output_type": "display_data"
    }
   ],
   "source": [
    "#EDA on Delivery price\n",
    "sns.pairplot(new_test_df,x_vars=['Drone Type','Post Type','Package Weight',\\\n",
    "                             'Origin Region','Destination Region',\\\n",
    "                             'Journey Distance','Dpt_Interval'],y_vars='Delivery Fare',kind='reg')"
   ]
  },
  {
   "cell_type": "code",
   "execution_count": 82,
   "metadata": {},
   "outputs": [
    {
     "data": {
      "text/plain": [
       "<matplotlib.axes._subplots.AxesSubplot at 0x1c0e1311248>"
      ]
     },
     "execution_count": 82,
     "metadata": {},
     "output_type": "execute_result"
    },
    {
     "data": {
      "image/png": "[encoded data removed]",
      "text/plain": [
       "<Figure size 1080x720 with 1 Axes>"
      ]
     },
     "metadata": {
      "needs_background": "light"
     },
     "output_type": "display_data"
    }
   ],
   "source": [
    "# Drone Type has still got some outliers\n",
    "plt.rcParams['figure.figsize']=15,10\n",
    "xi=new_test_df[['Delivery Fare','Drone Type']]\n",
    "sns.boxplot(data=xi,x='Drone Type',y='Delivery Fare')"
   ]
  },
  {
   "cell_type": "code",
   "execution_count": 83,
   "metadata": {},
   "outputs": [],
   "source": [
    "def treat_droneType_outliers(drone_type):\n",
    "\n",
    "    sample_df=new_test_df.copy()\n",
    "#     if option == \"Origin\":\n",
    "        \n",
    "    sample_df = sample_df[sample_df['Drone Type']==drone_type][[\"Delivery Fare\", \"Drone Type\",\"Id\"]]\n",
    "        \n",
    "#     else:\n",
    "#     sample_df = sample_df[sample_df['Destination Region']==region_no]\n",
    "    \n",
    "    Q1 = sample_df.quantile(0.25)\n",
    "    Q3 = sample_df.quantile(0.75)\n",
    "    IQR = Q3 - Q1\n",
    "#     print(Q1)\n",
    "#     print(Q3)\n",
    "    print(IQR)\n",
    "\n",
    "    try:\n",
    "        #clean\n",
    "        clean = sample_df[~((sample_df < (Q1 - 1.5 * IQR)) |(sample_df > (Q3 + 1.5 * IQR))).any(axis=1)]\n",
    "#         print(clean)\n",
    "        #outlier\n",
    "        outliers = sample_df[((sample_df < (Q1 - 1.5 * IQR)) |(sample_df > (Q3 + 1.5 * IQR))).any(axis=1)]\n",
    "#         print(outliers)\n",
    "\n",
    "    except :\n",
    "        print(\"!!!!!\")\n",
    "        \n",
    "    return clean,outliers"
   ]
  },
  {
   "cell_type": "markdown",
   "metadata": {},
   "source": [
    "## 13-1 Seperating clean from outliers for Drone-Type: 1.0"
   ]
  },
  {
   "cell_type": "code",
   "execution_count": 84,
   "metadata": {},
   "outputs": [
    {
     "name": "stdout",
     "output_type": "stream",
     "text": [
      "Delivery Fare   32.865000\n",
      "Drone Type       0.000000\n",
      "dtype: float64\n"
     ]
    }
   ],
   "source": [
    "clean_df_1,outlier_df_1 = treat_droneType_outliers(1.0)"
   ]
  },
  {
   "cell_type": "code",
   "execution_count": 85,
   "metadata": {},
   "outputs": [
    {
     "data": {
      "text/html": [
       "<div>\n",
       "<style scoped>\n",
       "    .dataframe tbody tr th:only-of-type {\n",
       "        vertical-align: middle;\n",
       "    }\n",
       "\n",
       "    .dataframe tbody tr th {\n",
       "        vertical-align: top;\n",
       "    }\n",
       "\n",
       "    .dataframe thead th {\n",
       "        text-align: right;\n",
       "    }\n",
       "</style>\n",
       "<table border=\"1\" class=\"dataframe\">\n",
       "  <thead>\n",
       "    <tr style=\"text-align: right;\">\n",
       "      <th></th>\n",
       "      <th>Delivery Fare</th>\n",
       "      <th>Drone Type</th>\n",
       "      <th>Id</th>\n",
       "    </tr>\n",
       "  </thead>\n",
       "  <tbody>\n",
       "    <tr>\n",
       "      <td>4</td>\n",
       "      <td>132.260000</td>\n",
       "      <td>1.000000</td>\n",
       "      <td>ID1767368003</td>\n",
       "    </tr>\n",
       "    <tr>\n",
       "      <td>5</td>\n",
       "      <td>150.620000</td>\n",
       "      <td>1.000000</td>\n",
       "      <td>ID1627205904</td>\n",
       "    </tr>\n",
       "    <tr>\n",
       "      <td>7</td>\n",
       "      <td>110.600000</td>\n",
       "      <td>1.000000</td>\n",
       "      <td>ID1720449532</td>\n",
       "    </tr>\n",
       "    <tr>\n",
       "      <td>9</td>\n",
       "      <td>141.830000</td>\n",
       "      <td>1.000000</td>\n",
       "      <td>ID1738336630</td>\n",
       "    </tr>\n",
       "    <tr>\n",
       "      <td>12</td>\n",
       "      <td>139.030000</td>\n",
       "      <td>1.000000</td>\n",
       "      <td>ID5704804569</td>\n",
       "    </tr>\n",
       "  </tbody>\n",
       "</table>\n",
       "</div>"
      ],
      "text/plain": [
       "    Delivery Fare  Drone Type            Id\n",
       "4      132.260000    1.000000  ID1767368003\n",
       "5      150.620000    1.000000  ID1627205904\n",
       "7      110.600000    1.000000  ID1720449532\n",
       "9      141.830000    1.000000  ID1738336630\n",
       "12     139.030000    1.000000  ID5704804569"
      ]
     },
     "execution_count": 85,
     "metadata": {},
     "output_type": "execute_result"
    }
   ],
   "source": [
    "clean_df_1.head()"
   ]
  },
  {
   "cell_type": "code",
   "execution_count": 86,
   "metadata": {},
   "outputs": [
    {
     "data": {
      "text/html": [
       "<div>\n",
       "<style scoped>\n",
       "    .dataframe tbody tr th:only-of-type {\n",
       "        vertical-align: middle;\n",
       "    }\n",
       "\n",
       "    .dataframe tbody tr th {\n",
       "        vertical-align: top;\n",
       "    }\n",
       "\n",
       "    .dataframe thead th {\n",
       "        text-align: right;\n",
       "    }\n",
       "</style>\n",
       "<table border=\"1\" class=\"dataframe\">\n",
       "  <thead>\n",
       "    <tr style=\"text-align: right;\">\n",
       "      <th></th>\n",
       "      <th>Delivery Fare</th>\n",
       "      <th>Drone Type</th>\n",
       "      <th>Id</th>\n",
       "    </tr>\n",
       "  </thead>\n",
       "  <tbody>\n",
       "    <tr>\n",
       "      <td>28</td>\n",
       "      <td>809.750000</td>\n",
       "      <td>1.000000</td>\n",
       "      <td>ID1309198845</td>\n",
       "    </tr>\n",
       "    <tr>\n",
       "      <td>601</td>\n",
       "      <td>346.860000</td>\n",
       "      <td>1.000000</td>\n",
       "      <td>ID5128349014</td>\n",
       "    </tr>\n",
       "    <tr>\n",
       "      <td>648</td>\n",
       "      <td>582.110000</td>\n",
       "      <td>1.000000</td>\n",
       "      <td>ID1508815773</td>\n",
       "    </tr>\n",
       "    <tr>\n",
       "      <td>900</td>\n",
       "      <td>325.730000</td>\n",
       "      <td>1.000000</td>\n",
       "      <td>ID5440855824</td>\n",
       "    </tr>\n",
       "    <tr>\n",
       "      <td>1058</td>\n",
       "      <td>470.950000</td>\n",
       "      <td>1.000000</td>\n",
       "      <td>ID5812408320</td>\n",
       "    </tr>\n",
       "  </tbody>\n",
       "</table>\n",
       "</div>"
      ],
      "text/plain": [
       "      Delivery Fare  Drone Type            Id\n",
       "28       809.750000    1.000000  ID1309198845\n",
       "601      346.860000    1.000000  ID5128349014\n",
       "648      582.110000    1.000000  ID1508815773\n",
       "900      325.730000    1.000000  ID5440855824\n",
       "1058     470.950000    1.000000  ID5812408320"
      ]
     },
     "execution_count": 86,
     "metadata": {},
     "output_type": "execute_result"
    }
   ],
   "source": [
    "outlier_df_1.head()"
   ]
  },
  {
   "cell_type": "markdown",
   "metadata": {},
   "source": [
    "## 13-2 Seperating clean from outliers for Drone Type: 2.0"
   ]
  },
  {
   "cell_type": "code",
   "execution_count": 87,
   "metadata": {},
   "outputs": [
    {
     "name": "stdout",
     "output_type": "stream",
     "text": [
      "Delivery Fare   31.910000\n",
      "Drone Type       0.000000\n",
      "dtype: float64\n"
     ]
    }
   ],
   "source": [
    "clean_df_2,outlier_df_2 = treat_droneType_outliers(2.0)"
   ]
  },
  {
   "cell_type": "code",
   "execution_count": 88,
   "metadata": {},
   "outputs": [
    {
     "data": {
      "text/html": [
       "<div>\n",
       "<style scoped>\n",
       "    .dataframe tbody tr th:only-of-type {\n",
       "        vertical-align: middle;\n",
       "    }\n",
       "\n",
       "    .dataframe tbody tr th {\n",
       "        vertical-align: top;\n",
       "    }\n",
       "\n",
       "    .dataframe thead th {\n",
       "        text-align: right;\n",
       "    }\n",
       "</style>\n",
       "<table border=\"1\" class=\"dataframe\">\n",
       "  <thead>\n",
       "    <tr style=\"text-align: right;\">\n",
       "      <th></th>\n",
       "      <th>Delivery Fare</th>\n",
       "      <th>Drone Type</th>\n",
       "      <th>Id</th>\n",
       "    </tr>\n",
       "  </thead>\n",
       "  <tbody>\n",
       "    <tr>\n",
       "      <td>8</td>\n",
       "      <td>129.070000</td>\n",
       "      <td>2.000000</td>\n",
       "      <td>ID1541523573</td>\n",
       "    </tr>\n",
       "    <tr>\n",
       "      <td>10</td>\n",
       "      <td>168.590000</td>\n",
       "      <td>2.000000</td>\n",
       "      <td>ID1391760737</td>\n",
       "    </tr>\n",
       "    <tr>\n",
       "      <td>16</td>\n",
       "      <td>203.680000</td>\n",
       "      <td>2.000000</td>\n",
       "      <td>ID5323834530</td>\n",
       "    </tr>\n",
       "    <tr>\n",
       "      <td>22</td>\n",
       "      <td>210.840000</td>\n",
       "      <td>2.000000</td>\n",
       "      <td>ID5154479116</td>\n",
       "    </tr>\n",
       "    <tr>\n",
       "      <td>23</td>\n",
       "      <td>165.490000</td>\n",
       "      <td>2.000000</td>\n",
       "      <td>ID5604588300</td>\n",
       "    </tr>\n",
       "  </tbody>\n",
       "</table>\n",
       "</div>"
      ],
      "text/plain": [
       "    Delivery Fare  Drone Type            Id\n",
       "8      129.070000    2.000000  ID1541523573\n",
       "10     168.590000    2.000000  ID1391760737\n",
       "16     203.680000    2.000000  ID5323834530\n",
       "22     210.840000    2.000000  ID5154479116\n",
       "23     165.490000    2.000000  ID5604588300"
      ]
     },
     "execution_count": 88,
     "metadata": {},
     "output_type": "execute_result"
    }
   ],
   "source": [
    "clean_df_2.head()"
   ]
  },
  {
   "cell_type": "markdown",
   "metadata": {},
   "source": [
    "## 13-3 Seperating clean from outliers for Drone Type: 2.0"
   ]
  },
  {
   "cell_type": "code",
   "execution_count": 89,
   "metadata": {},
   "outputs": [
    {
     "name": "stdout",
     "output_type": "stream",
     "text": [
      "Delivery Fare   32.867500\n",
      "Drone Type       0.000000\n",
      "dtype: float64\n"
     ]
    }
   ],
   "source": [
    "clean_df_3,outlier_df_3 = treat_droneType_outliers(3.0)"
   ]
  },
  {
   "cell_type": "markdown",
   "metadata": {},
   "source": [
    "## Combining all the clean and outliers respectively"
   ]
  },
  {
   "cell_type": "code",
   "execution_count": 90,
   "metadata": {},
   "outputs": [],
   "source": [
    "clean_1 =new_test_df[new_test_df['Id'].isin(clean_df_1['Id'])]\n",
    "clean_2 =new_test_df[new_test_df['Id'].isin(clean_df_2['Id'])]\n",
    "clean_3 =new_test_df[new_test_df['Id'].isin(clean_df_3['Id'])]\n",
    "\n",
    "out_1 =new_test_df[new_test_df['Id'].isin(outlier_df_1['Id'])]\n",
    "out_2 =new_test_df[new_test_df['Id'].isin(outlier_df_2['Id'])]\n",
    "out_3 =new_test_df[new_test_df['Id'].isin(outlier_df_3['Id'])]\n",
    "\n",
    "final_cln_Drone_df = pd.concat([clean_1,clean_2,clean_3])\n",
    "final_out_Drone_df = pd.concat([out_1,out_2,out_3])"
   ]
  },
  {
   "cell_type": "code",
   "execution_count": 91,
   "metadata": {},
   "outputs": [
    {
     "data": {
      "text/html": [
       "<div>\n",
       "<style scoped>\n",
       "    .dataframe tbody tr th:only-of-type {\n",
       "        vertical-align: middle;\n",
       "    }\n",
       "\n",
       "    .dataframe tbody tr th {\n",
       "        vertical-align: top;\n",
       "    }\n",
       "\n",
       "    .dataframe thead th {\n",
       "        text-align: right;\n",
       "    }\n",
       "</style>\n",
       "<table border=\"1\" class=\"dataframe\">\n",
       "  <thead>\n",
       "    <tr style=\"text-align: right;\">\n",
       "      <th></th>\n",
       "      <th>Id</th>\n",
       "      <th>Drone Type</th>\n",
       "      <th>Post Type</th>\n",
       "      <th>Package Weight</th>\n",
       "      <th>Origin Region</th>\n",
       "      <th>Destination Region</th>\n",
       "      <th>Origin Latitude</th>\n",
       "      <th>Origin Longitude</th>\n",
       "      <th>Destination Latitude</th>\n",
       "      <th>Destination Longitude</th>\n",
       "      <th>Departure Date</th>\n",
       "      <th>Departure Time</th>\n",
       "      <th>Travel Time</th>\n",
       "      <th>Delivery Time</th>\n",
       "      <th>Delivery Fare</th>\n",
       "      <th>Journey Distance</th>\n",
       "      <th>New_DeliveryTime</th>\n",
       "      <th>Dpt_Interval</th>\n",
       "    </tr>\n",
       "  </thead>\n",
       "  <tbody>\n",
       "    <tr>\n",
       "      <td>4</td>\n",
       "      <td>ID1767368003</td>\n",
       "      <td>1.000000</td>\n",
       "      <td>0.000000</td>\n",
       "      <td>39.495000</td>\n",
       "      <td>40.000000</td>\n",
       "      <td>11.000000</td>\n",
       "      <td>-37.952008</td>\n",
       "      <td>148.426079</td>\n",
       "      <td>-37.629604</td>\n",
       "      <td>144.048613</td>\n",
       "      <td>2018-07-21</td>\n",
       "      <td>19:59:06</td>\n",
       "      <td>393.210000</td>\n",
       "      <td>2:32:18</td>\n",
       "      <td>132.260000</td>\n",
       "      <td>386.712000</td>\n",
       "      <td>02:32:19</td>\n",
       "      <td>1</td>\n",
       "    </tr>\n",
       "    <tr>\n",
       "      <td>5</td>\n",
       "      <td>ID1627205904</td>\n",
       "      <td>1.000000</td>\n",
       "      <td>0.000000</td>\n",
       "      <td>46.987000</td>\n",
       "      <td>40.000000</td>\n",
       "      <td>17.000000</td>\n",
       "      <td>-38.249781</td>\n",
       "      <td>148.330524</td>\n",
       "      <td>-37.107149</td>\n",
       "      <td>144.140439</td>\n",
       "      <td>2018-04-01</td>\n",
       "      <td>00:43:58</td>\n",
       "      <td>396.900000</td>\n",
       "      <td>7:20:52</td>\n",
       "      <td>150.620000</td>\n",
       "      <td>390.409000</td>\n",
       "      <td>07:20:52</td>\n",
       "      <td>2</td>\n",
       "    </tr>\n",
       "    <tr>\n",
       "      <td>7</td>\n",
       "      <td>ID1720449532</td>\n",
       "      <td>1.000000</td>\n",
       "      <td>0.000000</td>\n",
       "      <td>41.746000</td>\n",
       "      <td>43.000000</td>\n",
       "      <td>5.000000</td>\n",
       "      <td>-38.111855</td>\n",
       "      <td>147.223251</td>\n",
       "      <td>-36.639687</td>\n",
       "      <td>147.743791</td>\n",
       "      <td>2018-03-21</td>\n",
       "      <td>13:07:03</td>\n",
       "      <td>176.720000</td>\n",
       "      <td>16:03:46</td>\n",
       "      <td>110.600000</td>\n",
       "      <td>170.223000</td>\n",
       "      <td>16:03:46</td>\n",
       "      <td>1</td>\n",
       "    </tr>\n",
       "    <tr>\n",
       "      <td>9</td>\n",
       "      <td>ID1738336630</td>\n",
       "      <td>1.000000</td>\n",
       "      <td>0.000000</td>\n",
       "      <td>31.278000</td>\n",
       "      <td>48.000000</td>\n",
       "      <td>15.000000</td>\n",
       "      <td>-37.216440</td>\n",
       "      <td>148.273685</td>\n",
       "      <td>-37.380458</td>\n",
       "      <td>144.920767</td>\n",
       "      <td>2018-05-09</td>\n",
       "      <td>05:23:10</td>\n",
       "      <td>303.940000</td>\n",
       "      <td>10:27:06</td>\n",
       "      <td>141.830000</td>\n",
       "      <td>297.451000</td>\n",
       "      <td>10:27:6</td>\n",
       "      <td>2</td>\n",
       "    </tr>\n",
       "    <tr>\n",
       "      <td>12</td>\n",
       "      <td>ID5704804569</td>\n",
       "      <td>1.000000</td>\n",
       "      <td>1.000000</td>\n",
       "      <td>8.311000</td>\n",
       "      <td>12.000000</td>\n",
       "      <td>43.000000</td>\n",
       "      <td>-38.819508</td>\n",
       "      <td>143.198526</td>\n",
       "      <td>-38.227166</td>\n",
       "      <td>147.132826</td>\n",
       "      <td>2018-05-08</td>\n",
       "      <td>11:21:48</td>\n",
       "      <td>355.390000</td>\n",
       "      <td>17:17:11</td>\n",
       "      <td>139.030000</td>\n",
       "      <td>348.893000</td>\n",
       "      <td>17:17:11</td>\n",
       "      <td>0</td>\n",
       "    </tr>\n",
       "  </tbody>\n",
       "</table>\n",
       "</div>"
      ],
      "text/plain": [
       "              Id  Drone Type  Post Type  Package Weight  Origin Region  \\\n",
       "4   ID1767368003    1.000000   0.000000       39.495000      40.000000   \n",
       "5   ID1627205904    1.000000   0.000000       46.987000      40.000000   \n",
       "7   ID1720449532    1.000000   0.000000       41.746000      43.000000   \n",
       "9   ID1738336630    1.000000   0.000000       31.278000      48.000000   \n",
       "12  ID5704804569    1.000000   1.000000        8.311000      12.000000   \n",
       "\n",
       "    Destination Region  Origin Latitude  Origin Longitude  \\\n",
       "4            11.000000       -37.952008        148.426079   \n",
       "5            17.000000       -38.249781        148.330524   \n",
       "7             5.000000       -38.111855        147.223251   \n",
       "9            15.000000       -37.216440        148.273685   \n",
       "12           43.000000       -38.819508        143.198526   \n",
       "\n",
       "    Destination Latitude  Destination Longitude Departure Date Departure Time  \\\n",
       "4             -37.629604             144.048613     2018-07-21       19:59:06   \n",
       "5             -37.107149             144.140439     2018-04-01       00:43:58   \n",
       "7             -36.639687             147.743791     2018-03-21       13:07:03   \n",
       "9             -37.380458             144.920767     2018-05-09       05:23:10   \n",
       "12            -38.227166             147.132826     2018-05-08       11:21:48   \n",
       "\n",
       "    Travel Time Delivery Time  Delivery Fare  Journey Distance  \\\n",
       "4    393.210000       2:32:18     132.260000        386.712000   \n",
       "5    396.900000       7:20:52     150.620000        390.409000   \n",
       "7    176.720000      16:03:46     110.600000        170.223000   \n",
       "9    303.940000      10:27:06     141.830000        297.451000   \n",
       "12   355.390000      17:17:11     139.030000        348.893000   \n",
       "\n",
       "   New_DeliveryTime  Dpt_Interval  \n",
       "4          02:32:19             1  \n",
       "5          07:20:52             2  \n",
       "7          16:03:46             1  \n",
       "9           10:27:6             2  \n",
       "12         17:17:11             0  "
      ]
     },
     "execution_count": 91,
     "metadata": {},
     "output_type": "execute_result"
    }
   ],
   "source": [
    "final_cln_Drone_df.head()"
   ]
  },
  {
   "cell_type": "code",
   "execution_count": 92,
   "metadata": {},
   "outputs": [
    {
     "data": {
      "text/html": [
       "<div>\n",
       "<style scoped>\n",
       "    .dataframe tbody tr th:only-of-type {\n",
       "        vertical-align: middle;\n",
       "    }\n",
       "\n",
       "    .dataframe tbody tr th {\n",
       "        vertical-align: top;\n",
       "    }\n",
       "\n",
       "    .dataframe thead th {\n",
       "        text-align: right;\n",
       "    }\n",
       "</style>\n",
       "<table border=\"1\" class=\"dataframe\">\n",
       "  <thead>\n",
       "    <tr style=\"text-align: right;\">\n",
       "      <th></th>\n",
       "      <th>Id</th>\n",
       "      <th>Drone Type</th>\n",
       "      <th>Post Type</th>\n",
       "      <th>Package Weight</th>\n",
       "      <th>Origin Region</th>\n",
       "      <th>Destination Region</th>\n",
       "      <th>Origin Latitude</th>\n",
       "      <th>Origin Longitude</th>\n",
       "      <th>Destination Latitude</th>\n",
       "      <th>Destination Longitude</th>\n",
       "      <th>Departure Date</th>\n",
       "      <th>Departure Time</th>\n",
       "      <th>Travel Time</th>\n",
       "      <th>Delivery Time</th>\n",
       "      <th>Delivery Fare</th>\n",
       "      <th>Journey Distance</th>\n",
       "      <th>New_DeliveryTime</th>\n",
       "      <th>Dpt_Interval</th>\n",
       "    </tr>\n",
       "  </thead>\n",
       "  <tbody>\n",
       "    <tr>\n",
       "      <td>28</td>\n",
       "      <td>ID1309198845</td>\n",
       "      <td>1.000000</td>\n",
       "      <td>0.000000</td>\n",
       "      <td>57.543000</td>\n",
       "      <td>19.000000</td>\n",
       "      <td>11.000000</td>\n",
       "      <td>-38.548346</td>\n",
       "      <td>147.345642</td>\n",
       "      <td>-37.360047</td>\n",
       "      <td>144.069367</td>\n",
       "      <td>2018-06-05</td>\n",
       "      <td>11:29:43</td>\n",
       "      <td>323.000000</td>\n",
       "      <td>16:52:43</td>\n",
       "      <td>809.750000</td>\n",
       "      <td>316.509000</td>\n",
       "      <td>16:52:43</td>\n",
       "      <td>0</td>\n",
       "    </tr>\n",
       "    <tr>\n",
       "      <td>601</td>\n",
       "      <td>ID5128349014</td>\n",
       "      <td>1.000000</td>\n",
       "      <td>1.000000</td>\n",
       "      <td>55.646000</td>\n",
       "      <td>21.000000</td>\n",
       "      <td>17.000000</td>\n",
       "      <td>-37.836287</td>\n",
       "      <td>144.248257</td>\n",
       "      <td>-36.965332</td>\n",
       "      <td>144.277744</td>\n",
       "      <td>2018-01-26</td>\n",
       "      <td>18:49:49</td>\n",
       "      <td>103.480000</td>\n",
       "      <td>20:33:18</td>\n",
       "      <td>346.860000</td>\n",
       "      <td>96.987000</td>\n",
       "      <td>20:33:18</td>\n",
       "      <td>1</td>\n",
       "    </tr>\n",
       "    <tr>\n",
       "      <td>648</td>\n",
       "      <td>ID1508815773</td>\n",
       "      <td>1.000000</td>\n",
       "      <td>0.000000</td>\n",
       "      <td>58.986000</td>\n",
       "      <td>7.000000</td>\n",
       "      <td>33.000000</td>\n",
       "      <td>-37.548420</td>\n",
       "      <td>143.165514</td>\n",
       "      <td>-37.579303</td>\n",
       "      <td>145.448786</td>\n",
       "      <td>2018-02-22</td>\n",
       "      <td>13:39:16</td>\n",
       "      <td>207.990000</td>\n",
       "      <td>17:07:16</td>\n",
       "      <td>582.110000</td>\n",
       "      <td>201.496000</td>\n",
       "      <td>17:07:15</td>\n",
       "      <td>1</td>\n",
       "    </tr>\n",
       "    <tr>\n",
       "      <td>900</td>\n",
       "      <td>ID5440855824</td>\n",
       "      <td>1.000000</td>\n",
       "      <td>1.000000</td>\n",
       "      <td>59.643000</td>\n",
       "      <td>31.000000</td>\n",
       "      <td>41.000000</td>\n",
       "      <td>-38.145538</td>\n",
       "      <td>146.487156</td>\n",
       "      <td>-38.909101</td>\n",
       "      <td>146.167449</td>\n",
       "      <td>2018-02-18</td>\n",
       "      <td>11:41:27</td>\n",
       "      <td>95.940000</td>\n",
       "      <td>13:17:23</td>\n",
       "      <td>325.730000</td>\n",
       "      <td>89.441000</td>\n",
       "      <td>13:17:23</td>\n",
       "      <td>0</td>\n",
       "    </tr>\n",
       "    <tr>\n",
       "      <td>1058</td>\n",
       "      <td>ID5812408320</td>\n",
       "      <td>1.000000</td>\n",
       "      <td>1.000000</td>\n",
       "      <td>55.714000</td>\n",
       "      <td>15.000000</td>\n",
       "      <td>2.000000</td>\n",
       "      <td>-37.143730</td>\n",
       "      <td>144.994684</td>\n",
       "      <td>-38.162707</td>\n",
       "      <td>143.847773</td>\n",
       "      <td>2018-02-09</td>\n",
       "      <td>15:06:59</td>\n",
       "      <td>158.420000</td>\n",
       "      <td>17:45:24</td>\n",
       "      <td>470.950000</td>\n",
       "      <td>151.929000</td>\n",
       "      <td>17:45:24</td>\n",
       "      <td>1</td>\n",
       "    </tr>\n",
       "  </tbody>\n",
       "</table>\n",
       "</div>"
      ],
      "text/plain": [
       "                Id  Drone Type  Post Type  Package Weight  Origin Region  \\\n",
       "28    ID1309198845    1.000000   0.000000       57.543000      19.000000   \n",
       "601   ID5128349014    1.000000   1.000000       55.646000      21.000000   \n",
       "648   ID1508815773    1.000000   0.000000       58.986000       7.000000   \n",
       "900   ID5440855824    1.000000   1.000000       59.643000      31.000000   \n",
       "1058  ID5812408320    1.000000   1.000000       55.714000      15.000000   \n",
       "\n",
       "      Destination Region  Origin Latitude  Origin Longitude  \\\n",
       "28             11.000000       -38.548346        147.345642   \n",
       "601            17.000000       -37.836287        144.248257   \n",
       "648            33.000000       -37.548420        143.165514   \n",
       "900            41.000000       -38.145538        146.487156   \n",
       "1058            2.000000       -37.143730        144.994684   \n",
       "\n",
       "      Destination Latitude  Destination Longitude Departure Date  \\\n",
       "28              -37.360047             144.069367     2018-06-05   \n",
       "601             -36.965332             144.277744     2018-01-26   \n",
       "648             -37.579303             145.448786     2018-02-22   \n",
       "900             -38.909101             146.167449     2018-02-18   \n",
       "1058            -38.162707             143.847773     2018-02-09   \n",
       "\n",
       "     Departure Time  Travel Time Delivery Time  Delivery Fare  \\\n",
       "28         11:29:43   323.000000      16:52:43     809.750000   \n",
       "601        18:49:49   103.480000      20:33:18     346.860000   \n",
       "648        13:39:16   207.990000      17:07:16     582.110000   \n",
       "900        11:41:27    95.940000      13:17:23     325.730000   \n",
       "1058       15:06:59   158.420000      17:45:24     470.950000   \n",
       "\n",
       "      Journey Distance New_DeliveryTime  Dpt_Interval  \n",
       "28          316.509000         16:52:43             0  \n",
       "601          96.987000         20:33:18             1  \n",
       "648         201.496000         17:07:15             1  \n",
       "900          89.441000         13:17:23             0  \n",
       "1058        151.929000         17:45:24             1  "
      ]
     },
     "execution_count": 92,
     "metadata": {},
     "output_type": "execute_result"
    }
   ],
   "source": [
    "final_out_Drone_df.head()"
   ]
  },
  {
   "cell_type": "markdown",
   "metadata": {},
   "source": [
    "## The below plot confirms that the outliers have been removed. Hence moving forward the 'final_cln_Drone_df' can be used for model building and disregard 'final_out_Drone_df'"
   ]
  },
  {
   "cell_type": "code",
   "execution_count": 93,
   "metadata": {},
   "outputs": [
    {
     "data": {
      "text/plain": [
       "<matplotlib.axes._subplots.AxesSubplot at 0x1c0e0b1e948>"
      ]
     },
     "execution_count": 93,
     "metadata": {},
     "output_type": "execute_result"
    },
    {
     "data": {
      "image/png": "[encoded data removed]",
      "text/plain": [
       "<Figure size 1080x720 with 1 Axes>"
      ]
     },
     "metadata": {
      "needs_background": "light"
     },
     "output_type": "display_data"
    }
   ],
   "source": [
    "plt.rcParams['figure.figsize']=15,10\n",
    "xi=final_cln_Drone_df[['Delivery Fare','Drone Type']]\n",
    "sns.boxplot(data=xi,x='Drone Type',y='Delivery Fare')"
   ]
  },
  {
   "cell_type": "code",
   "execution_count": 94,
   "metadata": {},
   "outputs": [
    {
     "data": {
      "text/plain": [
       "Id                        0\n",
       "Drone Type                0\n",
       "Post Type                 0\n",
       "Package Weight            0\n",
       "Origin Region             0\n",
       "Destination Region        0\n",
       "Origin Latitude           0\n",
       "Origin Longitude          0\n",
       "Destination Latitude      0\n",
       "Destination Longitude     0\n",
       "Departure Date            0\n",
       "Departure Time            0\n",
       "Travel Time               0\n",
       "Delivery Time             0\n",
       "Delivery Fare            30\n",
       "Journey Distance          0\n",
       "New_DeliveryTime          0\n",
       "Dpt_Interval              0\n",
       "dtype: int64"
      ]
     },
     "execution_count": 94,
     "metadata": {},
     "output_type": "execute_result"
    }
   ],
   "source": [
    "final_cln_Drone_df.isnull().sum()"
   ]
  },
  {
   "cell_type": "markdown",
   "metadata": {},
   "source": [
    "------------------"
   ]
  },
  {
   "cell_type": "markdown",
   "metadata": {},
   "source": [
    " ## Splitting data\n",
    " * Splitting the data into train and test sample where the test sample will contain Null values of 'DeliveryFare'.\n",
    " * Furthermore the train data is used to build models.\n",
    " * Finally, based on the accuracy a model is selected to predict the test sample with Null values"
   ]
  },
  {
   "cell_type": "code",
   "execution_count": 95,
   "metadata": {},
   "outputs": [],
   "source": [
    "train_sample = final_cln_Drone_df[final_cln_Drone_df[\"Delivery Fare\"].notnull()]\n",
    "test_sample = final_cln_Drone_df[final_cln_Drone_df[\"Delivery Fare\"].isnull()]"
   ]
  },
  {
   "cell_type": "markdown",
   "metadata": {},
   "source": [
    "## 14- Model Selection"
   ]
  },
  {
   "cell_type": "markdown",
   "metadata": {},
   "source": [
    "## 14-1 Multiple Linear Regression:"
   ]
  },
  {
   "cell_type": "code",
   "execution_count": 96,
   "metadata": {},
   "outputs": [],
   "source": [
    "x = train_sample.iloc[:, [1,2,3,-3,-1]].values\n",
    "y = train_sample.iloc[:, [-4]].values"
   ]
  },
  {
   "cell_type": "markdown",
   "metadata": {},
   "source": [
    "## Splitting data into train and test set"
   ]
  },
  {
   "cell_type": "code",
   "execution_count": 97,
   "metadata": {},
   "outputs": [],
   "source": [
    "from sklearn.model_selection import train_test_split\n",
    "\n",
    "x_train,x_test,y_train,y_test = train_test_split(x,y, random_state = 111)"
   ]
  },
  {
   "cell_type": "markdown",
   "metadata": {},
   "source": [
    "## Training Multiple Linear Regression on train sample"
   ]
  },
  {
   "cell_type": "code",
   "execution_count": 98,
   "metadata": {},
   "outputs": [
    {
     "data": {
      "text/plain": [
       "LinearRegression(copy_X=True, fit_intercept=True, n_jobs=None, normalize=False)"
      ]
     },
     "execution_count": 98,
     "metadata": {},
     "output_type": "execute_result"
    }
   ],
   "source": [
    "from sklearn.linear_model import LinearRegression\n",
    "\n",
    "regressor = LinearRegression()\n",
    "regressor.fit(x_train, y_train)"
   ]
  },
  {
   "cell_type": "code",
   "execution_count": 99,
   "metadata": {},
   "outputs": [],
   "source": [
    "y_pred = regressor.predict(x_test)"
   ]
  },
  {
   "cell_type": "code",
   "execution_count": 100,
   "metadata": {},
   "outputs": [
    {
     "name": "stdout",
     "output_type": "stream",
     "text": [
      "[[132.47 130.77]\n",
      " [153.2  149.76]\n",
      " [131.86 129.99]\n",
      " ...\n",
      " [118.56 121.63]\n",
      " [148.67 148.49]\n",
      " [164.08 162.38]]\n"
     ]
    }
   ],
   "source": [
    "np.set_printoptions(precision=2)\n",
    "print(np.concatenate((y_pred.reshape(len(y_pred),1), y_test.reshape(len(y_pred),1)), axis = 1))"
   ]
  },
  {
   "cell_type": "markdown",
   "metadata": {},
   "source": [
    "## Model Evaluation\n",
    "\n",
    "## Finding R-Square\n"
   ]
  },
  {
   "cell_type": "code",
   "execution_count": 101,
   "metadata": {},
   "outputs": [
    {
     "name": "stdout",
     "output_type": "stream",
     "text": [
      "R-squared for Multiple Linear Regression model =  0.9901596023854751\n",
      "\n",
      "RMSE for Multiple Linear Regression model= 3.640395213292894\n"
     ]
    }
   ],
   "source": [
    "print ('R-squared for Multiple Linear Regression model = ',regressor.score(x_test,y_test))\n",
    "\n",
    "# Finding RMSE\n",
    "\n",
    "print('\\nRMSE for Multiple Linear Regression model=',np.sqrt(mean_squared_error(y_pred,y_test)))"
   ]
  },
  {
   "cell_type": "code",
   "execution_count": 102,
   "metadata": {},
   "outputs": [
    {
     "data": {
      "image/png": "[encoded data removed]",
      "text/plain": [
       "<Figure size 1080x720 with 1 Axes>"
      ]
     },
     "metadata": {
      "needs_background": "light"
     },
     "output_type": "display_data"
    }
   ],
   "source": [
    "plt.scatter(y_pred,y_test)\n",
    "plt.xlabel('y_pred')\n",
    "plt.ylabel('y_test')\n",
    "plt.title('Multiple Linear Regression')\n",
    "plt.show()"
   ]
  },
  {
   "cell_type": "markdown",
   "metadata": {},
   "source": [
    "----------------"
   ]
  },
  {
   "cell_type": "markdown",
   "metadata": {},
   "source": [
    "## 14-2 RandomForest Regression:"
   ]
  },
  {
   "cell_type": "code",
   "execution_count": 103,
   "metadata": {},
   "outputs": [],
   "source": [
    "from sklearn.model_selection import train_test_split\n",
    "\n",
    "x_tr,x_t,y_tr,y_t = train_test_split(x,y, random_state = 11)"
   ]
  },
  {
   "cell_type": "code",
   "execution_count": 104,
   "metadata": {},
   "outputs": [
    {
     "data": {
      "text/plain": [
       "RandomForestRegressor(bootstrap=True, criterion='mse', max_depth=None,\n",
       "                      max_features='auto', max_leaf_nodes=None,\n",
       "                      min_impurity_decrease=0.0, min_impurity_split=None,\n",
       "                      min_samples_leaf=1, min_samples_split=2,\n",
       "                      min_weight_fraction_leaf=0.0, n_estimators=10,\n",
       "                      n_jobs=None, oob_score=False, random_state=0, verbose=0,\n",
       "                      warm_start=False)"
      ]
     },
     "execution_count": 104,
     "metadata": {},
     "output_type": "execute_result"
    }
   ],
   "source": [
    "from sklearn.ensemble import RandomForestRegressor\n",
    "reg = RandomForestRegressor(n_estimators = 10, random_state = 0)\n",
    "reg.fit(x_tr,y_tr)"
   ]
  },
  {
   "cell_type": "code",
   "execution_count": 105,
   "metadata": {},
   "outputs": [],
   "source": [
    "y_p = reg.predict(x_t)"
   ]
  },
  {
   "cell_type": "code",
   "execution_count": 106,
   "metadata": {},
   "outputs": [
    {
     "name": "stdout",
     "output_type": "stream",
     "text": [
      "[[118.79 119.49]\n",
      " [188.88 193.98]\n",
      " [103.11 103.66]\n",
      " ...\n",
      " [138.98 140.38]\n",
      " [104.36 110.5 ]\n",
      " [133.28 114.02]]\n"
     ]
    }
   ],
   "source": [
    "np.set_printoptions(precision=2)\n",
    "print(np.concatenate((y_p.reshape(len(y_p),1), y_t.reshape(len(y_p),1)), axis = 1))"
   ]
  },
  {
   "cell_type": "markdown",
   "metadata": {},
   "source": [
    "## Model Evaluation\n",
    "\n",
    "## Finding R-Square"
   ]
  },
  {
   "cell_type": "code",
   "execution_count": 107,
   "metadata": {},
   "outputs": [
    {
     "name": "stdout",
     "output_type": "stream",
     "text": [
      "R-squared for Random Forest model =  0.9914164914345166\n",
      "\n",
      "RMSE for Random Forest model= 3.863527606996213\n"
     ]
    }
   ],
   "source": [
    "print ('R-squared for Random Forest model = ',regressor.score(x_t,y_t))\n",
    "\n",
    "# Finding RMSE\n",
    "\n",
    "print('\\nRMSE for Random Forest model=',np.sqrt(mean_squared_error(y_p,y_t)))"
   ]
  },
  {
   "cell_type": "markdown",
   "metadata": {},
   "source": [
    "--------------"
   ]
  },
  {
   "cell_type": "markdown",
   "metadata": {},
   "source": [
    "## 14-3 DecisionTree Regression:"
   ]
  },
  {
   "cell_type": "code",
   "execution_count": 108,
   "metadata": {},
   "outputs": [],
   "source": [
    "x_tra,x_tst,y_tra,y_tst = train_test_split(x,y, random_state = 10)"
   ]
  },
  {
   "cell_type": "code",
   "execution_count": 109,
   "metadata": {},
   "outputs": [
    {
     "data": {
      "text/plain": [
       "DecisionTreeRegressor(criterion='mse', max_depth=None, max_features=None,\n",
       "                      max_leaf_nodes=None, min_impurity_decrease=0.0,\n",
       "                      min_impurity_split=None, min_samples_leaf=1,\n",
       "                      min_samples_split=2, min_weight_fraction_leaf=0.0,\n",
       "                      presort=False, random_state=0, splitter='best')"
      ]
     },
     "execution_count": 109,
     "metadata": {},
     "output_type": "execute_result"
    }
   ],
   "source": [
    "from sklearn.tree import DecisionTreeRegressor\n",
    "regressor = DecisionTreeRegressor(random_state=0)\n",
    "regressor.fit(x_tra,y_tra)"
   ]
  },
  {
   "cell_type": "code",
   "execution_count": 110,
   "metadata": {},
   "outputs": [],
   "source": [
    "y_pr = reg.predict(x_tst)"
   ]
  },
  {
   "cell_type": "code",
   "execution_count": 111,
   "metadata": {},
   "outputs": [
    {
     "name": "stdout",
     "output_type": "stream",
     "text": [
      "[[140.56 142.95]\n",
      " [157.24 156.44]\n",
      " [143.9  147.22]\n",
      " ...\n",
      " [175.21 176.34]\n",
      " [172.92 172.43]\n",
      " [176.11 172.95]]\n"
     ]
    }
   ],
   "source": [
    "np.set_printoptions(precision=2)\n",
    "print(np.concatenate((y_pr.reshape(len(y_pr),1), y_tst.reshape(len(y_pr),1)), axis = 1))"
   ]
  },
  {
   "cell_type": "markdown",
   "metadata": {},
   "source": [
    "## Model Evaluation\n",
    "\n",
    "## Finding R-Square"
   ]
  },
  {
   "cell_type": "code",
   "execution_count": 112,
   "metadata": {},
   "outputs": [
    {
     "name": "stdout",
     "output_type": "stream",
     "text": [
      "R-squared for Decision Tree model =  0.99563778927488\n",
      "\n",
      "RMSE for Decision Tree model= 3.863527606996213\n"
     ]
    }
   ],
   "source": [
    "print ('R-squared for Decision Tree model = ',regressor.score(x_t,y_t))\n",
    "\n",
    "# Finding RMSE\n",
    "\n",
    "print('\\nRMSE for Decision Tree model=',np.sqrt(mean_squared_error(y_p,y_t)))"
   ]
  },
  {
   "cell_type": "markdown",
   "metadata": {},
   "source": [
    "------------"
   ]
  },
  {
   "cell_type": "markdown",
   "metadata": {},
   "source": [
    "## 14-4 SVR:"
   ]
  },
  {
   "cell_type": "code",
   "execution_count": 113,
   "metadata": {},
   "outputs": [],
   "source": [
    "from sklearn.preprocessing import StandardScaler\n",
    "sc_X = StandardScaler()\n",
    "sc_y = StandardScaler()\n",
    "X = sc_X.fit_transform(x)\n",
    "y = sc_y.fit_transform(y)"
   ]
  },
  {
   "cell_type": "code",
   "execution_count": 114,
   "metadata": {},
   "outputs": [],
   "source": [
    "X_train,X_test,Y_train,Y_test = train_test_split(X,y, random_state = 10)"
   ]
  },
  {
   "cell_type": "code",
   "execution_count": 115,
   "metadata": {},
   "outputs": [
    {
     "data": {
      "text/plain": [
       "SVR(C=1.0, cache_size=200, coef0=0.0, degree=3, epsilon=0.1,\n",
       "    gamma='auto_deprecated', kernel='rbf', max_iter=-1, shrinking=True,\n",
       "    tol=0.001, verbose=False)"
      ]
     },
     "execution_count": 115,
     "metadata": {},
     "output_type": "execute_result"
    }
   ],
   "source": [
    "from sklearn.svm import SVR\n",
    "regressor = SVR(kernel = 'rbf')\n",
    "regressor.fit(X_train, Y_train)"
   ]
  },
  {
   "cell_type": "code",
   "execution_count": 116,
   "metadata": {},
   "outputs": [],
   "source": [
    "Y_pred = sc_y.inverse_transform(regressor.predict(sc_X.transform(X_test)))"
   ]
  },
  {
   "cell_type": "markdown",
   "metadata": {},
   "source": [
    "## Model Evaluation\n",
    "\n",
    "## Finding R-Square"
   ]
  },
  {
   "cell_type": "code",
   "execution_count": 117,
   "metadata": {},
   "outputs": [
    {
     "name": "stdout",
     "output_type": "stream",
     "text": [
      "R-squared for SVR model =  0.9908617947976563\n",
      "\n",
      "RMSE for SVR model= 149.7072827105155\n"
     ]
    }
   ],
   "source": [
    "print ('R-squared for SVR model = ',regressor.score(X_test,Y_test))\n",
    "\n",
    "# Finding RMSE\n",
    "\n",
    "print('\\nRMSE for SVR model=',np.sqrt(mean_squared_error(Y_pred,Y_test)))"
   ]
  },
  {
   "cell_type": "markdown",
   "metadata": {},
   "source": [
    "------------"
   ]
  },
  {
   "cell_type": "markdown",
   "metadata": {},
   "source": [
    "## 15- Since the optimal model is observed to be as Multiple Linear Regression, it is further used to predict the actual null values of Delivery Fare"
   ]
  },
  {
   "cell_type": "code",
   "execution_count": 118,
   "metadata": {},
   "outputs": [
    {
     "data": {
      "text/plain": [
       "LinearRegression(copy_X=True, fit_intercept=True, n_jobs=None, normalize=False)"
      ]
     },
     "execution_count": 118,
     "metadata": {},
     "output_type": "execute_result"
    }
   ],
   "source": [
    "x = train_sample.iloc[:, [1,2,3,-3,-1]]\n",
    "y = train_sample.iloc[:, [-4]]\n",
    "\n",
    "\n",
    "\n",
    "x_train,x_test,y_train,y_test = train_test_split(x,y, random_state = 111)\n",
    "from sklearn.linear_model import LinearRegression\n",
    "\n",
    "regressor = LinearRegression()\n",
    "regressor.fit(x_train, y_train)"
   ]
  },
  {
   "cell_type": "code",
   "execution_count": 119,
   "metadata": {},
   "outputs": [],
   "source": [
    "Del_fare = test_sample.iloc[:, [1,2,3,-3,-1]]"
   ]
  },
  {
   "cell_type": "code",
   "execution_count": 120,
   "metadata": {},
   "outputs": [],
   "source": [
    "y_pred = regressor.predict(Del_fare)\n",
    "test_sample.rename(columns = {\"new_del_fare\": \"Delivery Fare\"}, inplace=True)"
   ]
  },
  {
   "cell_type": "code",
   "execution_count": 121,
   "metadata": {},
   "outputs": [
    {
     "data": {
      "text/plain": [
       "['Id',\n",
       " 'Drone Type',\n",
       " 'Post Type',\n",
       " 'Package Weight',\n",
       " 'Origin Region',\n",
       " 'Destination Region',\n",
       " 'Origin Latitude',\n",
       " 'Origin Longitude',\n",
       " 'Destination Latitude',\n",
       " 'Destination Longitude',\n",
       " 'Departure Date',\n",
       " 'Departure Time',\n",
       " 'Travel Time',\n",
       " 'Delivery Time',\n",
       " 'Delivery Fare',\n",
       " 'Journey Distance',\n",
       " 'New_DeliveryTime',\n",
       " 'Dpt_Interval']"
      ]
     },
     "execution_count": 121,
     "metadata": {},
     "output_type": "execute_result"
    }
   ],
   "source": [
    "cols = list(test_sample.columns.values)\n",
    "cols"
   ]
  },
  {
   "cell_type": "code",
   "execution_count": 122,
   "metadata": {},
   "outputs": [],
   "source": [
    "\n",
    "\n",
    "test_sample = test_sample[['Id',\n",
    " 'Drone Type',\n",
    " 'Post Type',\n",
    " 'Package Weight',\n",
    " 'Origin Region',\n",
    " 'Destination Region',\n",
    " 'Origin Latitude',\n",
    " 'Origin Longitude',\n",
    " 'Destination Latitude',\n",
    " 'Destination Longitude',\n",
    " 'Departure Date',\n",
    " 'Departure Time',\n",
    " 'Travel Time',\n",
    " 'Delivery Time',\n",
    " 'Delivery Fare',\n",
    " 'Journey Distance',\n",
    " 'New_DeliveryTime',\n",
    " 'Dpt_Interval',\n",
    " ]]"
   ]
  },
  {
   "cell_type": "code",
   "execution_count": 123,
   "metadata": {},
   "outputs": [
    {
     "data": {
      "text/html": [
       "<div>\n",
       "<style scoped>\n",
       "    .dataframe tbody tr th:only-of-type {\n",
       "        vertical-align: middle;\n",
       "    }\n",
       "\n",
       "    .dataframe tbody tr th {\n",
       "        vertical-align: top;\n",
       "    }\n",
       "\n",
       "    .dataframe thead th {\n",
       "        text-align: right;\n",
       "    }\n",
       "</style>\n",
       "<table border=\"1\" class=\"dataframe\">\n",
       "  <thead>\n",
       "    <tr style=\"text-align: right;\">\n",
       "      <th></th>\n",
       "      <th>Id</th>\n",
       "      <th>Drone Type</th>\n",
       "      <th>Post Type</th>\n",
       "      <th>Package Weight</th>\n",
       "      <th>Origin Region</th>\n",
       "      <th>Destination Region</th>\n",
       "      <th>Origin Latitude</th>\n",
       "      <th>Origin Longitude</th>\n",
       "      <th>Destination Latitude</th>\n",
       "      <th>Destination Longitude</th>\n",
       "      <th>Departure Date</th>\n",
       "      <th>Departure Time</th>\n",
       "      <th>Travel Time</th>\n",
       "      <th>Delivery Time</th>\n",
       "      <th>Delivery Fare</th>\n",
       "      <th>Journey Distance</th>\n",
       "      <th>New_DeliveryTime</th>\n",
       "      <th>Dpt_Interval</th>\n",
       "    </tr>\n",
       "  </thead>\n",
       "  <tbody>\n",
       "    <tr>\n",
       "      <td>187</td>\n",
       "      <td>ID1380085941</td>\n",
       "      <td>1.000000</td>\n",
       "      <td>0.000000</td>\n",
       "      <td>47.077000</td>\n",
       "      <td>34.000000</td>\n",
       "      <td>32.000000</td>\n",
       "      <td>-38.306746</td>\n",
       "      <td>146.622479</td>\n",
       "      <td>-36.514736</td>\n",
       "      <td>144.522918</td>\n",
       "      <td>2018-03-08</td>\n",
       "      <td>05:58:04</td>\n",
       "      <td>278.980000</td>\n",
       "      <td>10:37:02</td>\n",
       "      <td>nan</td>\n",
       "      <td>272.482000</td>\n",
       "      <td>10:37:3</td>\n",
       "      <td>2</td>\n",
       "    </tr>\n",
       "    <tr>\n",
       "      <td>620</td>\n",
       "      <td>ID5910070326</td>\n",
       "      <td>1.000000</td>\n",
       "      <td>1.000000</td>\n",
       "      <td>29.436000</td>\n",
       "      <td>1.000000</td>\n",
       "      <td>33.000000</td>\n",
       "      <td>-38.060625</td>\n",
       "      <td>143.245787</td>\n",
       "      <td>-37.418093</td>\n",
       "      <td>145.475103</td>\n",
       "      <td>2018-03-13</td>\n",
       "      <td>06:27:43</td>\n",
       "      <td>215.360000</td>\n",
       "      <td>10:03:05</td>\n",
       "      <td>nan</td>\n",
       "      <td>208.867000</td>\n",
       "      <td>10:03:5</td>\n",
       "      <td>0</td>\n",
       "    </tr>\n",
       "    <tr>\n",
       "      <td>6322</td>\n",
       "      <td>ID5482142482</td>\n",
       "      <td>1.000000</td>\n",
       "      <td>1.000000</td>\n",
       "      <td>26.675000</td>\n",
       "      <td>42.000000</td>\n",
       "      <td>5.000000</td>\n",
       "      <td>-37.589721</td>\n",
       "      <td>146.058724</td>\n",
       "      <td>-36.548497</td>\n",
       "      <td>147.680615</td>\n",
       "      <td>2018-07-06</td>\n",
       "      <td>20:18:10</td>\n",
       "      <td>191.380000</td>\n",
       "      <td>23:29:33</td>\n",
       "      <td>nan</td>\n",
       "      <td>184.891000</td>\n",
       "      <td>23:29:33</td>\n",
       "      <td>1</td>\n",
       "    </tr>\n",
       "    <tr>\n",
       "      <td>6338</td>\n",
       "      <td>ID5355258760</td>\n",
       "      <td>1.000000</td>\n",
       "      <td>1.000000</td>\n",
       "      <td>23.096000</td>\n",
       "      <td>7.000000</td>\n",
       "      <td>40.000000</td>\n",
       "      <td>-37.624573</td>\n",
       "      <td>142.937805</td>\n",
       "      <td>-38.139646</td>\n",
       "      <td>148.260817</td>\n",
       "      <td>2018-02-20</td>\n",
       "      <td>10:02:29</td>\n",
       "      <td>477.610000</td>\n",
       "      <td>18:00:05</td>\n",
       "      <td>nan</td>\n",
       "      <td>471.113000</td>\n",
       "      <td>18:00:6</td>\n",
       "      <td>0</td>\n",
       "    </tr>\n",
       "    <tr>\n",
       "      <td>6857</td>\n",
       "      <td>ID1440218655</td>\n",
       "      <td>1.000000</td>\n",
       "      <td>0.000000</td>\n",
       "      <td>18.870000</td>\n",
       "      <td>32.000000</td>\n",
       "      <td>28.000000</td>\n",
       "      <td>-36.719765</td>\n",
       "      <td>144.434845</td>\n",
       "      <td>-37.328926</td>\n",
       "      <td>147.870018</td>\n",
       "      <td>2018-07-11</td>\n",
       "      <td>15:25:27</td>\n",
       "      <td>319.210000</td>\n",
       "      <td>20:44:40</td>\n",
       "      <td>nan</td>\n",
       "      <td>312.715000</td>\n",
       "      <td>20:44:40</td>\n",
       "      <td>1</td>\n",
       "    </tr>\n",
       "  </tbody>\n",
       "</table>\n",
       "</div>"
      ],
      "text/plain": [
       "                Id  Drone Type  Post Type  Package Weight  Origin Region  \\\n",
       "187   ID1380085941    1.000000   0.000000       47.077000      34.000000   \n",
       "620   ID5910070326    1.000000   1.000000       29.436000       1.000000   \n",
       "6322  ID5482142482    1.000000   1.000000       26.675000      42.000000   \n",
       "6338  ID5355258760    1.000000   1.000000       23.096000       7.000000   \n",
       "6857  ID1440218655    1.000000   0.000000       18.870000      32.000000   \n",
       "\n",
       "      Destination Region  Origin Latitude  Origin Longitude  \\\n",
       "187            32.000000       -38.306746        146.622479   \n",
       "620            33.000000       -38.060625        143.245787   \n",
       "6322            5.000000       -37.589721        146.058724   \n",
       "6338           40.000000       -37.624573        142.937805   \n",
       "6857           28.000000       -36.719765        144.434845   \n",
       "\n",
       "      Destination Latitude  Destination Longitude Departure Date  \\\n",
       "187             -36.514736             144.522918     2018-03-08   \n",
       "620             -37.418093             145.475103     2018-03-13   \n",
       "6322            -36.548497             147.680615     2018-07-06   \n",
       "6338            -38.139646             148.260817     2018-02-20   \n",
       "6857            -37.328926             147.870018     2018-07-11   \n",
       "\n",
       "     Departure Time  Travel Time Delivery Time  Delivery Fare  \\\n",
       "187        05:58:04   278.980000      10:37:02            nan   \n",
       "620        06:27:43   215.360000      10:03:05            nan   \n",
       "6322       20:18:10   191.380000      23:29:33            nan   \n",
       "6338       10:02:29   477.610000      18:00:05            nan   \n",
       "6857       15:25:27   319.210000      20:44:40            nan   \n",
       "\n",
       "      Journey Distance New_DeliveryTime  Dpt_Interval  \n",
       "187         272.482000          10:37:3             2  \n",
       "620         208.867000          10:03:5             0  \n",
       "6322        184.891000         23:29:33             1  \n",
       "6338        471.113000          18:00:6             0  \n",
       "6857        312.715000         20:44:40             1  "
      ]
     },
     "execution_count": 123,
     "metadata": {},
     "output_type": "execute_result"
    }
   ],
   "source": [
    "test_sample.head()"
   ]
  },
  {
   "cell_type": "markdown",
   "metadata": {},
   "source": [
    "----------"
   ]
  },
  {
   "cell_type": "markdown",
   "metadata": {},
   "source": [
    "## Updating main df with the predicted results"
   ]
  },
  {
   "cell_type": "code",
   "execution_count": 124,
   "metadata": {},
   "outputs": [],
   "source": [
    "new_test_df.update(test_sample)"
   ]
  },
  {
   "cell_type": "code",
   "execution_count": 125,
   "metadata": {},
   "outputs": [
    {
     "data": {
      "text/html": [
       "<div>\n",
       "<style scoped>\n",
       "    .dataframe tbody tr th:only-of-type {\n",
       "        vertical-align: middle;\n",
       "    }\n",
       "\n",
       "    .dataframe tbody tr th {\n",
       "        vertical-align: top;\n",
       "    }\n",
       "\n",
       "    .dataframe thead th {\n",
       "        text-align: right;\n",
       "    }\n",
       "</style>\n",
       "<table border=\"1\" class=\"dataframe\">\n",
       "  <thead>\n",
       "    <tr style=\"text-align: right;\">\n",
       "      <th></th>\n",
       "      <th>Id</th>\n",
       "      <th>Drone Type</th>\n",
       "      <th>Post Type</th>\n",
       "      <th>Package Weight</th>\n",
       "      <th>Origin Region</th>\n",
       "      <th>Destination Region</th>\n",
       "      <th>Origin Latitude</th>\n",
       "      <th>Origin Longitude</th>\n",
       "      <th>Destination Latitude</th>\n",
       "      <th>Destination Longitude</th>\n",
       "      <th>Departure Date</th>\n",
       "      <th>Departure Time</th>\n",
       "      <th>Travel Time</th>\n",
       "      <th>Delivery Time</th>\n",
       "      <th>Delivery Fare</th>\n",
       "      <th>Journey Distance</th>\n",
       "      <th>New_DeliveryTime</th>\n",
       "      <th>Dpt_Interval</th>\n",
       "    </tr>\n",
       "  </thead>\n",
       "  <tbody>\n",
       "    <tr>\n",
       "      <td>187</td>\n",
       "      <td>ID1380085941</td>\n",
       "      <td>1.000000</td>\n",
       "      <td>0.000000</td>\n",
       "      <td>47.077000</td>\n",
       "      <td>34.000000</td>\n",
       "      <td>32.000000</td>\n",
       "      <td>-38.306746</td>\n",
       "      <td>146.622479</td>\n",
       "      <td>-36.514736</td>\n",
       "      <td>144.522918</td>\n",
       "      <td>2018-03-08</td>\n",
       "      <td>05:58:04</td>\n",
       "      <td>278.980000</td>\n",
       "      <td>10:37:02</td>\n",
       "      <td>nan</td>\n",
       "      <td>272.482000</td>\n",
       "      <td>10:37:3</td>\n",
       "      <td>2.000000</td>\n",
       "    </tr>\n",
       "  </tbody>\n",
       "</table>\n",
       "</div>"
      ],
      "text/plain": [
       "               Id  Drone Type  Post Type  Package Weight  Origin Region  \\\n",
       "187  ID1380085941    1.000000   0.000000       47.077000      34.000000   \n",
       "\n",
       "     Destination Region  Origin Latitude  Origin Longitude  \\\n",
       "187           32.000000       -38.306746        146.622479   \n",
       "\n",
       "     Destination Latitude  Destination Longitude Departure Date  \\\n",
       "187            -36.514736             144.522918     2018-03-08   \n",
       "\n",
       "    Departure Time  Travel Time Delivery Time  Delivery Fare  \\\n",
       "187       05:58:04   278.980000      10:37:02            nan   \n",
       "\n",
       "     Journey Distance New_DeliveryTime  Dpt_Interval  \n",
       "187        272.482000          10:37:3      2.000000  "
      ]
     },
     "execution_count": 125,
     "metadata": {},
     "output_type": "execute_result"
    }
   ],
   "source": [
    "new_test_df[new_test_df[\"Id\"]==\"ID1380085941\"]"
   ]
  },
  {
   "cell_type": "code",
   "execution_count": 126,
   "metadata": {},
   "outputs": [
    {
     "data": {
      "text/html": [
       "<div>\n",
       "<style scoped>\n",
       "    .dataframe tbody tr th:only-of-type {\n",
       "        vertical-align: middle;\n",
       "    }\n",
       "\n",
       "    .dataframe tbody tr th {\n",
       "        vertical-align: top;\n",
       "    }\n",
       "\n",
       "    .dataframe thead th {\n",
       "        text-align: right;\n",
       "    }\n",
       "</style>\n",
       "<table border=\"1\" class=\"dataframe\">\n",
       "  <thead>\n",
       "    <tr style=\"text-align: right;\">\n",
       "      <th></th>\n",
       "      <th>Id</th>\n",
       "      <th>Drone Type</th>\n",
       "      <th>Post Type</th>\n",
       "      <th>Package Weight</th>\n",
       "      <th>Origin Region</th>\n",
       "      <th>Destination Region</th>\n",
       "      <th>Origin Latitude</th>\n",
       "      <th>Origin Longitude</th>\n",
       "      <th>Destination Latitude</th>\n",
       "      <th>Destination Longitude</th>\n",
       "      <th>Departure Date</th>\n",
       "      <th>Departure Time</th>\n",
       "      <th>Travel Time</th>\n",
       "      <th>Delivery Time</th>\n",
       "      <th>Delivery Fare</th>\n",
       "      <th>Journey Distance</th>\n",
       "      <th>New_DeliveryTime</th>\n",
       "      <th>Dpt_Interval</th>\n",
       "    </tr>\n",
       "  </thead>\n",
       "  <tbody>\n",
       "    <tr>\n",
       "      <td>0</td>\n",
       "      <td>ID1155220853</td>\n",
       "      <td>3.000000</td>\n",
       "      <td>0.000000</td>\n",
       "      <td>29.246000</td>\n",
       "      <td>9.000000</td>\n",
       "      <td>8.000000</td>\n",
       "      <td>-37.543231</td>\n",
       "      <td>146.694631</td>\n",
       "      <td>-38.688709</td>\n",
       "      <td>147.836706</td>\n",
       "      <td>2018-07-07</td>\n",
       "      <td>03:32:59</td>\n",
       "      <td>141.790000</td>\n",
       "      <td>5:54:45</td>\n",
       "      <td>201.760000</td>\n",
       "      <td>162.058000</td>\n",
       "      <td>05:54:46</td>\n",
       "      <td>2.000000</td>\n",
       "    </tr>\n",
       "    <tr>\n",
       "      <td>1</td>\n",
       "      <td>ID1934229843</td>\n",
       "      <td>3.000000</td>\n",
       "      <td>0.000000</td>\n",
       "      <td>15.151000</td>\n",
       "      <td>23.000000</td>\n",
       "      <td>13.000000</td>\n",
       "      <td>-38.719744</td>\n",
       "      <td>143.924901</td>\n",
       "      <td>-36.816430</td>\n",
       "      <td>147.486725</td>\n",
       "      <td>2018-02-25</td>\n",
       "      <td>17:46:42</td>\n",
       "      <td>321.940000</td>\n",
       "      <td>23:08:39</td>\n",
       "      <td>202.880000</td>\n",
       "      <td>378.269000</td>\n",
       "      <td>23:08:38</td>\n",
       "      <td>1.000000</td>\n",
       "    </tr>\n",
       "    <tr>\n",
       "      <td>2</td>\n",
       "      <td>ID1516274046</td>\n",
       "      <td>3.000000</td>\n",
       "      <td>0.000000</td>\n",
       "      <td>24.750000</td>\n",
       "      <td>44.000000</td>\n",
       "      <td>45.000000</td>\n",
       "      <td>-38.181825</td>\n",
       "      <td>144.361734</td>\n",
       "      <td>-38.983453</td>\n",
       "      <td>144.674366</td>\n",
       "      <td>2018-06-15</td>\n",
       "      <td>13:34:05</td>\n",
       "      <td>84.490000</td>\n",
       "      <td>14:58:33</td>\n",
       "      <td>183.650000</td>\n",
       "      <td>93.289000</td>\n",
       "      <td>14:58:34</td>\n",
       "      <td>1.000000</td>\n",
       "    </tr>\n",
       "    <tr>\n",
       "      <td>3</td>\n",
       "      <td>ID1556088517</td>\n",
       "      <td>3.000000</td>\n",
       "      <td>0.000000</td>\n",
       "      <td>30.177000</td>\n",
       "      <td>32.000000</td>\n",
       "      <td>43.000000</td>\n",
       "      <td>-36.533097</td>\n",
       "      <td>144.367291</td>\n",
       "      <td>-37.965204</td>\n",
       "      <td>147.219601</td>\n",
       "      <td>2018-03-23</td>\n",
       "      <td>13:43:56</td>\n",
       "      <td>255.720000</td>\n",
       "      <td>17:59:39</td>\n",
       "      <td>193.090000</td>\n",
       "      <td>298.795000</td>\n",
       "      <td>17:59:39</td>\n",
       "      <td>1.000000</td>\n",
       "    </tr>\n",
       "    <tr>\n",
       "      <td>4</td>\n",
       "      <td>ID1767368003</td>\n",
       "      <td>1.000000</td>\n",
       "      <td>0.000000</td>\n",
       "      <td>39.495000</td>\n",
       "      <td>40.000000</td>\n",
       "      <td>11.000000</td>\n",
       "      <td>-37.952008</td>\n",
       "      <td>148.426079</td>\n",
       "      <td>-37.629604</td>\n",
       "      <td>144.048613</td>\n",
       "      <td>2018-07-21</td>\n",
       "      <td>19:59:06</td>\n",
       "      <td>393.210000</td>\n",
       "      <td>2:32:18</td>\n",
       "      <td>132.260000</td>\n",
       "      <td>386.712000</td>\n",
       "      <td>02:32:19</td>\n",
       "      <td>1.000000</td>\n",
       "    </tr>\n",
       "  </tbody>\n",
       "</table>\n",
       "</div>"
      ],
      "text/plain": [
       "             Id  Drone Type  Post Type  Package Weight  Origin Region  \\\n",
       "0  ID1155220853    3.000000   0.000000       29.246000       9.000000   \n",
       "1  ID1934229843    3.000000   0.000000       15.151000      23.000000   \n",
       "2  ID1516274046    3.000000   0.000000       24.750000      44.000000   \n",
       "3  ID1556088517    3.000000   0.000000       30.177000      32.000000   \n",
       "4  ID1767368003    1.000000   0.000000       39.495000      40.000000   \n",
       "\n",
       "   Destination Region  Origin Latitude  Origin Longitude  \\\n",
       "0            8.000000       -37.543231        146.694631   \n",
       "1           13.000000       -38.719744        143.924901   \n",
       "2           45.000000       -38.181825        144.361734   \n",
       "3           43.000000       -36.533097        144.367291   \n",
       "4           11.000000       -37.952008        148.426079   \n",
       "\n",
       "   Destination Latitude  Destination Longitude Departure Date Departure Time  \\\n",
       "0            -38.688709             147.836706     2018-07-07       03:32:59   \n",
       "1            -36.816430             147.486725     2018-02-25       17:46:42   \n",
       "2            -38.983453             144.674366     2018-06-15       13:34:05   \n",
       "3            -37.965204             147.219601     2018-03-23       13:43:56   \n",
       "4            -37.629604             144.048613     2018-07-21       19:59:06   \n",
       "\n",
       "   Travel Time Delivery Time  Delivery Fare  Journey Distance  \\\n",
       "0   141.790000       5:54:45     201.760000        162.058000   \n",
       "1   321.940000      23:08:39     202.880000        378.269000   \n",
       "2    84.490000      14:58:33     183.650000         93.289000   \n",
       "3   255.720000      17:59:39     193.090000        298.795000   \n",
       "4   393.210000       2:32:18     132.260000        386.712000   \n",
       "\n",
       "  New_DeliveryTime  Dpt_Interval  \n",
       "0         05:54:46      2.000000  \n",
       "1         23:08:38      1.000000  \n",
       "2         14:58:34      1.000000  \n",
       "3         17:59:39      1.000000  \n",
       "4         02:32:19      1.000000  "
      ]
     },
     "execution_count": 126,
     "metadata": {},
     "output_type": "execute_result"
    }
   ],
   "source": [
    "new_test_df.head()"
   ]
  },
  {
   "cell_type": "markdown",
   "metadata": {},
   "source": [
    "----------------"
   ]
  },
  {
   "cell_type": "markdown",
   "metadata": {},
   "source": [
    "## 16 - Conclusion:\n",
    "\n",
    "   - 36987 rows are the final cleaned data out of total 37057 rows.\n",
    "   - Origin Latitude: Total number of errors fixed: 20,\n",
    "   - Destination Latitude: Total number of errors fixed: 20,\n",
    "   - Destination Longitude: Total number of errors fixed 20,\n",
    "   - Post Type: Total number of errors fixed: 20,\n",
    "   - Journey Distance: Total number of errors: fixed: 14,\n",
    "   - Both Origin and Destination regions are fixed, based on KNN model\n",
    "       * Origin Region: Total number of errors fixed: 30,\n",
    "       * Destination Region: Total number of errors fixed: 30,\n",
    "   - Departure Date: Total number of errors fixed: 220,\n",
    "   - Drone Type: Total number of errors fixed: 36,\n",
    "   - Travel Time: Total number of errors fixed: 40,\n",
    "   - Delivery Fare: Total number of errors fixed: 30\n",
    "   - Duplicated rows and Id=nulls are dropped\n",
    "        Null_Id: Total number of errors fixed: 23\n",
    "   - Departure Time: Total number of errors fixed: 40,\n",
    "   - Finally, Delivery Fare is calculated based on Multiple Linear Regression model"
   ]
  },
  {
   "cell_type": "markdown",
   "metadata": {},
   "source": [
    "## 17- References:\n",
    "- 5 - https://codereview.stackexchange.com/questions/200176/cleaning-up-date-strings-in-python\n",
    "- 5 - https://stackoverflow.com/questions/16870663/how-do-i-validate-a-date-string-format-in-python\n",
    "- 9 - https://stackoverflow.com/questions/19412462/getting-distance-between-two-points-based-on-latitude-longitude\n",
    "- 10-1,10-8 - https://towardsdatascience.com/ways-to-detect-and-remove-the-outliers-404d16608dba\n",
    "- 10-5,10-9 - https://www.analyticsvidhya.com/blog/2018/08/k-nearest-neighbor-introduction-regression-python/"
   ]
  }
 ],
 "metadata": {
  "kernelspec": {
   "display_name": "Python 3",
   "language": "python",
   "name": "python3"
  },
  "language_info": {
   "codemirror_mode": {
    "name": "ipython",
    "version": 3
   },
   "file_extension": ".py",
   "mimetype": "text/x-python",
   "name": "python",
   "nbconvert_exporter": "python",
   "pygments_lexer": "ipython3",
   "version": "3.7.4"
  }
 },
 "nbformat": 4,
 "nbformat_minor": 2
}
